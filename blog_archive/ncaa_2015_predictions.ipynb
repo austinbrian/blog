{
 "cells": [
  {
   "cell_type": "code",
   "execution_count": 2,
   "metadata": {
    "collapsed": false
   },
   "outputs": [
    {
     "name": "stdout",
     "output_type": "stream",
     "text": [
      "[['1 Duke96%98%>99%97%93%98%'], ['1 Wisconsin96%98%99%99%96%97%'], ['1 Villanova95%97%99%98%97%98%'], ['2 Arizona95%97%99%99%98%99%'], ['2 Gonzaga94%96%98%97%94%97%'], ['2 Virginia94%96%98%97%95%97%'], ['1 Kentucky93%99%>99%>99%98%>99%'], ['2 Kansas92%97%98%91%84%89%'], ['3 Notre Dame90%96%97%90%88%90%'], ['3 Iowa St.90%95%96%91%87%93%']]\n"
     ]
    }
   ],
   "source": [
    "import csv\n",
    "location = 'NCAA_2015_predictions.txt'\n",
    "with open(location,'rU') as r:\n",
    "    reader = csv.reader(r,delimiter='\\n')\n",
    "    data = [i for i in reader]\n",
    "r.close()\n",
    "print(data[:10])"
   ]
  },
  {
   "cell_type": "code",
   "execution_count": 6,
   "metadata": {
    "collapsed": false
   },
   "outputs": [
    {
     "name": "stdout",
     "output_type": "stream",
     "text": [
      "['NYT', 'Yahoo!', 'CBS Sports', '538', 'Pomeroy', 'Sagarin']\n"
     ]
    }
   ],
   "source": [
    "header = list(['NYT','Yahoo!','CBS Sports','538','Pomeroy','Sagarin'])\n",
    "print(header)"
   ]
  },
  {
   "cell_type": "code",
   "execution_count": 43,
   "metadata": {
    "collapsed": false
   },
   "outputs": [
    {
     "name": "stdout",
     "output_type": "stream",
     "text": [
      "['1 Duke96%98%>99%97%93%98%', '1 Wisconsin96%98%99%99%96%97%', '1 Villanova95%97%99%98%97%98%', '2 Arizona95%97%99%99%98%99%', '2 Gonzaga94%96%98%97%94%97%', '2 Virginia94%96%98%97%95%97%', '1 Kentucky93%99%>99%>99%98%>99%', '2 Kansas92%97%98%91%84%89%', '3 Notre Dame90%96%97%90%88%90%', '3 Iowa St.90%95%96%91%87%93%', '4 Louisville87%92%94%75%79%85%', '3 Baylor85%92%95%76%77%82%', '3 Oklahoma85%92%94%90%89%91%', '4 U.N.C.81%92%93%87%79%86%', '4 Maryland80%89%90%72%62%70%', '4 Georgetown78%82%82%77%84%84%', '5 Arkansas77%81%83%76%73%77%', '7 Mich. St.77%83%85%65%62%64%', '5 N. Iowa70%78%80%75%85%79%', '5 Utah70%70%71%82%74%74%', '6 Providence65%74%81%53%57%62%', '6 Xavier65%67%74%58%55%59%', '5 W. Va.59%70%72%67%63%72%', '6 Butler58%60%61%46%48%51%', '7 Wichita St.57%68%72%72%73%66%']\n",
      "['14 U.A.B.10%3%4%9%13%7%', '14 Northeastern10%3%3%10%13%10%', '15 N.M. State8%2%2%9%17%11%', '16 Man./Hampton7%1%<1%2%2%<1%', '15 Belmont6%2%3%3%5%3%', '15 N.D. St.6%2%2%1%6%3%', '15 Texas So.5%1%1%1%2%1%', '16 Lafayette5%1%1%2%3%2%', '16 Coas. Car.4%1%1%1%4%3%', '16 N. Fla./Robert Morris4%1%1%3%7%2%']\n"
     ]
    }
   ],
   "source": [
    "f_data = sum(data, []) # Converts the list of lists to a list of strings, really useful\n",
    "print(f_data[:25])\n",
    "print(f_data[-10:])"
   ]
  },
  {
   "cell_type": "code",
   "execution_count": 39,
   "metadata": {
    "collapsed": false
   },
   "outputs": [
    {
     "name": "stdout",
     "output_type": "stream",
     "text": [
      "<_sre.SRE_Match object at 0x108f19d30>\n"
     ]
    }
   ],
   "source": [
    "# Need to cut out the > from these. Jesus they totally don't work.\n",
    "import re\n",
    "# line = re.sub('>',\"\",f_data)\n",
    "match =re.search('>',f_data[0])\n",
    "print(match)"
   ]
  },
  {
   "cell_type": "code",
   "execution_count": 48,
   "metadata": {
    "collapsed": false
   },
   "outputs": [
    {
     "name": "stdout",
     "output_type": "stream",
     "text": [
      "1 Duke96%98%99%97%93%98%\n",
      "1 Kentucky93%99%99%99%98%99%\n",
      "16 Man./Hampton7%1%1%2%2%1%\n"
     ]
    }
   ],
   "source": [
    "duke_fixed = f_rows[0][:12]+f_rows[0][13:]\n",
    "ky_fixed = f_rows[6][:16]+f_rows[6][17:20]+f_rows[6][21:27]+f_rows[6][-3:]\n",
    "man_ham_fixed = f_rows[-7][:-10]+f_rows[-7][-9:-3]+f_rows[-7][-2:]\n",
    "print(duke_fixed)\n",
    "print(ky_fixed)\n",
    "print(man_ham_fixed)"
   ]
  },
  {
   "cell_type": "code",
   "execution_count": 49,
   "metadata": {
    "collapsed": true
   },
   "outputs": [],
   "source": [
    "f_rows[0]=duke_fixed\n",
    "f_rows[6] = ky_fixed\n",
    "f_rows[-7] = man_ham_fixed"
   ]
  },
  {
   "cell_type": "code",
   "execution_count": 59,
   "metadata": {
    "collapsed": false
   },
   "outputs": [
    {
     "name": "stdout",
     "output_type": "stream",
     "text": [
      "['1 Duke96%98%99%97%93%98%', '1 Wisconsin96%98%99%99%96%97%', '1 Villanova95%97%99%98%97%98%', '2 Arizona95%97%99%99%98%99%', '2 Gonzaga94%96%98%97%94%97%']\n"
     ]
    }
   ],
   "source": [
    "for each in f_rows:\n",
    "    each = each.split('\\%')\n",
    "\n",
    "print(f_rows[:5])"
   ]
  },
  {
   "cell_type": "code",
   "execution_count": 60,
   "metadata": {
    "collapsed": false
   },
   "outputs": [
    {
     "name": "stdout",
     "output_type": "stream",
     "text": [
      "1 Duke96%98%99%97%93%98%\n",
      "1 Wisconsin96%98%99%99%96%97%\n",
      "1 Villanova95%97%99%98%97%98%\n",
      "2 Arizona95%97%99%99%98%99%\n",
      "2 Gonzaga94%96%98%97%94%97%\n",
      "2 Virginia94%96%98%97%95%97%\n",
      "1 Kentucky93%99%99%99%98%99%\n",
      "2 Kansas92%97%98%91%84%89%\n",
      "3 Notre Dame90%96%97%90%88%90%\n",
      "3 Iowa St.90%95%96%91%87%93%\n",
      "4 Louisville87%92%94%75%79%85%\n",
      "3 Baylor85%92%95%76%77%82%\n",
      "3 Oklahoma85%92%94%90%89%91%\n",
      "4 U.N.C.81%92%93%87%79%86%\n",
      "4 Maryland80%89%90%72%62%70%\n",
      "4 Georgetown78%82%82%77%84%84%\n",
      "5 Arkansas77%81%83%76%73%77%\n",
      "7 Mich. St.77%83%85%65%62%64%\n",
      "5 N. Iowa70%78%80%75%85%79%\n",
      "5 Utah70%70%71%82%74%74%\n",
      "6 Providence65%74%81%53%57%62%\n",
      "6 Xavier65%67%74%58%55%59%\n",
      "5 W. Va.59%70%72%67%63%72%\n",
      "6 Butler58%60%61%46%48%51%\n",
      "7 Wichita St.57%68%72%72%73%66%\n",
      "6 S.M.U.56%67%71%63%63%60%\n",
      "10 Ohio St.56%60%56%64%56%60%\n",
      "8 N.C. State55%57%60%59%52%55%\n",
      "8 Oregon52%59%61%41%47%44%\n",
      "9 Purdue51%56%60%46%43%56%\n",
      "7 Iowa51%54%57%62%55%53%\n",
      "9 St. Johns50%42%45%42%43%48%\n",
      "8 S.D. St.50%55%55%58%58%52%\n",
      "10 Davidson49%44%43%38%45%47%\n",
      "8 Cincinnati49%42%40%54%57%44%\n",
      "9 Okla. St.48%39%39%59%53%56%\n",
      "9 L.S.U.45%41%41%41%48%45%\n",
      "7 V.C.U.44%38%44%36%44%40%\n",
      "11 U.C.L.A.44%31%29%37%37%40%\n",
      "10 Indiana43%31%28%28%27%34%\n",
      "11 Texas42%38%39%54%52%49%\n",
      "12 Buffalo41%29%28%33%37%28%\n",
      "11 B.Y.U./Miss35%30%26%42%45%41%\n",
      "11 Boise St./Dtn.35%23%19%48%43%38%\n",
      "12 S. F. Austin30%27%29%18%26%26%\n",
      "12 Wyoming30%20%20%25%15%21%\n",
      "10 Georgia23%14%15%35%38%36%\n",
      "12 Wofford23%17%17%24%27%23%\n",
      "13 E. Wash.22%16%18%23%16%16%\n",
      "13 Valparaiso20%10%10%28%38%30%\n",
      "13 Harvard19%7%7%13%21%14%\n",
      "14 Albany15%6%6%10%11%9%\n",
      "14 Geor. St.15%6%5%24%23%18%\n",
      "13 UC-Irvine13%5%6%25%21%15%\n",
      "14 U.A.B.10%3%4%9%13%7%\n",
      "14 Northeastern10%3%3%10%13%10%\n",
      "15 N.M. State8%2%2%9%17%11%\n",
      "16 Man./Hampton7%1%1%2%2%1%\n",
      "15 Belmont6%2%3%3%5%3%\n",
      "15 N.D. St.6%2%2%1%6%3%\n",
      "15 Texas So.5%1%1%1%2%1%\n",
      "16 Lafayette5%1%1%2%3%2%\n",
      "16 Coas. Car.4%1%1%1%4%3%\n",
      "16 N. Fla./Robert Morris4%1%1%3%7%2%\n"
     ]
    }
   ],
   "source": [
    "for i in f_rows:\n",
    "    print(i)"
   ]
  }
 ],
 "metadata": {
  "kernelspec": {
   "display_name": "Python 2",
   "language": "python",
   "name": "python2"
  },
  "language_info": {
   "codemirror_mode": {
    "name": "ipython",
    "version": 2
   },
   "file_extension": ".py",
   "mimetype": "text/x-python",
   "name": "python",
   "nbconvert_exporter": "python",
   "pygments_lexer": "ipython2",
   "version": "2.7.13"
  }
 },
 "nbformat": 4,
 "nbformat_minor": 2
}
