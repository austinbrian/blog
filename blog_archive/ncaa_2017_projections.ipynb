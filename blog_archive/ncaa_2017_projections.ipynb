{
 "cells": [
  {
   "cell_type": "markdown",
   "metadata": {},
   "source": [
    "## Importing the Data \n",
    "------"
   ]
  },
  {
   "cell_type": "code",
   "execution_count": 1,
   "metadata": {
    "collapsed": false
   },
   "outputs": [
    {
     "name": "stdout",
     "output_type": "stream",
     "text": [
      "[['School'], ['CBS Sports'], ['Yahoo!'], ['538'], ['ESPN'], ['Pomeroy'], ['Sagarin'], ['1 Villanova'], ['>99%'], ['99%']]\n"
     ]
    }
   ],
   "source": [
    "import csv\n",
    "location = 'NCAA_2017_projections.txt'\n",
    "with open(location,'rU') as r:\n",
    "    reader = csv.reader(r,delimiter='\\n')\n",
    "    data = [i for i in reader]\n",
    "r.close()\n",
    "print(data[:10])"
   ]
  },
  {
   "cell_type": "code",
   "execution_count": 2,
   "metadata": {
    "collapsed": false
   },
   "outputs": [
    {
     "name": "stdout",
     "output_type": "stream",
     "text": [
      "[['School'], ['CBS Sports'], ['Yahoo!'], ['538'], ['ESPN'], ['Pomeroy'], ['Sagarin']]\n"
     ]
    }
   ],
   "source": [
    "header = [data[:7]]\n",
    "header = sum(header,[])\n",
    "print(header)"
   ]
  },
  {
   "cell_type": "code",
   "execution_count": 3,
   "metadata": {
    "collapsed": false
   },
   "outputs": [
    {
     "name": "stdout",
     "output_type": "stream",
     "text": [
      "[['1 Villanova'], ['>99%'], ['99%'], ['99%'], ['99%'], ['97%'], ['99%'], ['1 Gonzaga'], ['99%'], ['96%']]\n"
     ]
    }
   ],
   "source": [
    "data = data[7:]\n",
    "print(data[:10])"
   ]
  },
  {
   "cell_type": "code",
   "execution_count": 4,
   "metadata": {
    "collapsed": true
   },
   "outputs": [],
   "source": [
    "# initially did this later, but it makes more sense here\n",
    "import re"
   ]
  },
  {
   "cell_type": "code",
   "execution_count": 5,
   "metadata": {
    "collapsed": true
   },
   "outputs": [],
   "source": [
    "f_data = sum(data, []) # Converts the list of lists to a list of strings, really useful"
   ]
  },
  {
   "cell_type": "code",
   "execution_count": 6,
   "metadata": {
    "collapsed": false
   },
   "outputs": [
    {
     "name": "stdout",
     "output_type": "stream",
     "text": [
      "['1 Villanova', '99', '99', '99', '99', '97', '99', '1 Gonzaga', '99', '96', '98', '98', '99', '99', '1 North Carolina', '99', '95', '98', '98', '98', '99', '1 Kansas', '99', '96', '98']\n"
     ]
    }
   ],
   "source": [
    "f_data = [x.replace('>',\"\") for x in f_data]\n",
    "f_data = [x.replace('<','') for x in f_data]\n",
    "f_data = [x.replace('%',\"\") for x in f_data]\n",
    "# replace is my new favorite builtin function\n",
    "print(f_data[:25])"
   ]
  },
  {
   "cell_type": "code",
   "execution_count": 7,
   "metadata": {
    "collapsed": false
   },
   "outputs": [
    {
     "name": "stdout",
     "output_type": "stream",
     "text": [
      "[['1 Villanova', '99', '99', '99', '99', '97', '99'], ['1 Gonzaga', '99', '96', '98', '98', '99', '99'], ['1 North Carolina', '99', '95', '98', '98', '98', '99'], ['1 Kansas', '99', '96', '98', '97', '95', '98'], ['2 Duke', '99', '96', '97', '95', '92', '97']]\n"
     ]
    }
   ],
   "source": [
    "# This piece creates a separate list for each school and adds to rows\n",
    "i=0\n",
    "rows = []\n",
    "while i<len(f_data): \n",
    "    rows.append(f_data[i:i+7]) # there are seven entries for each that are separated by a comma\n",
    "    i+=7\n",
    "print(rows[:5])"
   ]
  },
  {
   "cell_type": "markdown",
   "metadata": {},
   "source": [
    ">Now I have a list of lists, and should be able to set up a couple other variables I'll need"
   ]
  },
  {
   "cell_type": "markdown",
   "metadata": {},
   "source": [
    "## Adding analysis variables\n",
    "-----"
   ]
  },
  {
   "cell_type": "code",
   "execution_count": 8,
   "metadata": {
    "collapsed": false
   },
   "outputs": [],
   "source": [
    "schools = [i[:1] for i in rows]\n",
    "# print schools"
   ]
  },
  {
   "cell_type": "code",
   "execution_count": 9,
   "metadata": {
    "collapsed": false
   },
   "outputs": [
    {
     "name": "stdout",
     "output_type": "stream",
     "text": [
      "[1, 1, 1, 1, 2, 2, 2, 2, 3, 3, 3, 3, 4, 4, 4, 4, 5, 5, 5, 5, 6, 6, 6, 6, 7, 7, 7, 7, 8, 8, 8, 8, 9, 9, 9, 9, 10, 10, 10, 10, 11, 11, 11, 11, 12, 12, 12, 12, 13, 13, 13, 13, 14, 14, 14, 14, 15, 15, 15, 15, 16, 16, 16, 16]\n"
     ]
    }
   ],
   "source": [
    "seed = []\n",
    "str_schools = sum(schools,[])\n",
    "for i in str_schools:\n",
    "    seed1 = i[0]\n",
    "    seed2 = i[1]\n",
    "    if seed2 == '':\n",
    "        seed.append(seed1)\n",
    "    elif seed2 != '':\n",
    "        seed.append(seed1+seed2)\n",
    "    seed = [int(i) for i in seed]\n",
    "\n",
    "print seed"
   ]
  },
  {
   "cell_type": "code",
   "execution_count": 10,
   "metadata": {
    "collapsed": false
   },
   "outputs": [
    {
     "name": "stdout",
     "output_type": "stream",
     "text": [
      "['Villanova', 'Gonzaga', 'North Carolina', 'Kansas', 'Duke', 'Kentucky', 'Arizona', 'Louisville', 'Baylor', 'Florida State', 'Oregon', 'U.C.L.A.', 'Purdue', 'Butler', 'West Virginia', 'Florida', 'Virginia', 'Iowa State', 'Notre Dame', 'Minnesota', 'Cincinnati', 'S.M.U.', 'Creighton', 'Maryland', \"Saint Mary's\", 'Michigan', 'Dayton', 'South Carolina', 'Arkansas', 'Northwestern', 'Miami', 'Wisconsin', 'Seton Hall', 'Michigan State', 'Vanderbilt', 'Virginia Tech', 'Virginia Commonwealth', 'Marquette', 'Oklahoma State', 'Wichita State', 'Xavier', 'Providence / U.S.C.', 'Kansas State / Wake Forest', 'Rhode Island', 'U.N.C. Wilmington', 'Nevada', 'Middle Tennessee', 'Princeton', 'East Tennessee State', 'Vermont', 'Bucknell', 'Winthrop', 'Iona', 'New Mexico State', 'Florida Gulf Coast', 'Kent State', 'North Dakota', 'Jacksonville State', 'Northern Kentucky', 'Troy', 'South Dakota State', 'Texas Southern', \"Mt. Saint Mary's / New Orleans\", 'N.C. Central / U.C. Davis']\n"
     ]
    }
   ],
   "source": [
    "school_name = [i[2:] for i in str_schools]\n",
    "school_names = []\n",
    "for i in school_name:\n",
    "    if i[0]==' ':\n",
    "        i = i[1:len(i)] # Couldn't seem to just redeclare the variable\n",
    "        school_names.append(i) # This is a long way to do this, but I weirdly had trouble here\n",
    "    else:\n",
    "        school_names.append(i)\n",
    "print school_names"
   ]
  },
  {
   "cell_type": "code",
   "execution_count": 11,
   "metadata": {
    "collapsed": false
   },
   "outputs": [
    {
     "name": "stdout",
     "output_type": "stream",
     "text": [
      "[(1, 'Villanova'), (1, 'Gonzaga'), (1, 'North Carolina'), (1, 'Kansas'), (2, 'Duke'), (2, 'Kentucky'), (2, 'Arizona'), (2, 'Louisville'), (3, 'Baylor'), (3, 'Florida State'), (3, 'Oregon'), (3, 'U.C.L.A.'), (4, 'Purdue'), (4, 'Butler'), (4, 'West Virginia'), (4, 'Florida'), (5, 'Virginia'), (5, 'Iowa State'), (5, 'Notre Dame'), (5, 'Minnesota'), (6, 'Cincinnati'), (6, 'S.M.U.'), (6, 'Creighton'), (6, 'Maryland'), (7, \"Saint Mary's\"), (7, 'Michigan'), (7, 'Dayton'), (7, 'South Carolina'), (8, 'Arkansas'), (8, 'Northwestern'), (8, 'Miami'), (8, 'Wisconsin'), (9, 'Seton Hall'), (9, 'Michigan State'), (9, 'Vanderbilt'), (9, 'Virginia Tech'), (10, ' Virginia Commonwealth'), (10, ' Marquette'), (10, ' Oklahoma State'), (10, ' Wichita State'), (11, ' Xavier'), (11, ' Providence / U.S.C.'), (11, ' Kansas State / Wake Forest'), (11, ' Rhode Island'), (12, ' U.N.C. Wilmington'), (12, ' Nevada'), (12, ' Middle Tennessee'), (12, ' Princeton'), (13, ' East Tennessee State'), (13, ' Vermont'), (13, ' Bucknell'), (13, ' Winthrop'), (14, ' Iona'), (14, ' New Mexico State'), (14, ' Florida Gulf Coast'), (14, ' Kent State'), (15, ' North Dakota'), (15, ' Jacksonville State'), (15, ' Northern Kentucky'), (15, ' Troy'), (16, ' South Dakota State'), (16, ' Texas Southern'), (16, \" Mt. Saint Mary's / New Orleans\"), (16, ' N.C. Central / U.C. Davis')]\n"
     ]
    }
   ],
   "source": [
    "seed_school = zip(seed,school_name)\n",
    "print seed_school,"
   ]
  },
  {
   "cell_type": "code",
   "execution_count": 12,
   "metadata": {
    "collapsed": false
   },
   "outputs": [
    {
     "name": "stdout",
     "output_type": "stream",
     "text": [
      "['1 Villanova', '99', '99', '99', '99', '97', '99']\n",
      "['1 Gonzaga', '99', '96', '98', '98', '99', '99']\n",
      "['1 North Carolina', '99', '95', '98', '98', '98', '99']\n",
      "['1 Kansas', '99', '96', '98', '97', '95', '98']\n",
      "['2 Duke', '99', '96', '97', '95', '92', '97']\n",
      "['2 Kentucky', '99', '95', '97', '97', '96', '97']\n",
      "['2 Arizona', '98', '95', '95', '93', '93', '95']\n",
      "['2 Louisville', '98', '94', '97', '98', '93', '98']\n",
      "['3 Baylor', '93', '91', '90', '91', '84', '89']\n",
      "['3 Florida State', '82', '81', '88', '87', '86', '91']\n",
      "['3 Oregon', '94', '91', '92', '96', '89', '94']\n",
      "['3 U.C.L.A.', '97', '93', '94', '96', '92', '94']\n",
      "['4 Purdue', '89', '84', '86', '84', '77', '85']\n",
      "['4 Butler', '93', '88', '89', '89', '84', '89']\n",
      "['4 West Virginia', '91', '87', '90', '93', '88', '93']\n",
      "['4 Florida', '83', '83', '87', '92', '83', '88']\n",
      "['5 Virginia', '79', '78', '84', '89', '79', '85']\n",
      "['5 Iowa State', '79', '75', '83', '77', '73', '77']\n",
      "['5 Notre Dame', '86', '82', '75', '76', '69', '78']\n",
      "['5 Minnesota', '59', '56', '52', '54', '54', '62']\n",
      "['6 Cincinnati', '82', '76', '63', '71', '61', '66']\n",
      "['6 S.M.U.', '85', '77', '79', '84', '77', '75']\n",
      "['6 Creighton', '61', '58', '56', '61', '60', '65']\n",
      "['6 Maryland', '57', '56', '51', '42', '49', '46']\n",
      "[\"7 Saint Mary's\", '48', '50', '74', '82', '71', '68']\n",
      "['7 Michigan', '77', '73', '63', '69', '51', '51']\n",
      "['7 Dayton', '32', '30', '31', '28', '25', '26']\n",
      "['7 South Carolina', '44', '39', '57', '44', '49', '50']\n",
      "['8 Arkansas', '46', '45', '51', '54', '54', '54']\n",
      "['8 Northwestern', '53', '48', '45', '47', '49', '51']\n",
      "['8 Miami', '41', '38', '55', '57', '54', '55']\n",
      "['8 Wisconsin', '71', '69', '79', '75', '67', '71']\n",
      "['9 Seton Hall', '54', '49', '49', '46', '46', '46']\n",
      "['9 Michigan State', '59', '56', '45', '43', '46', '45']\n",
      "['9 Vanderbilt', '47', '47', '55', '53', '52', '49']\n",
      "['9 Virginia Tech', '29', '28', '21', '25', '34', '29']\n",
      "['10 Virginia Commonwealth', '52', '45', '26', '18', '29', '32']\n",
      "['10 Marquette', '56', '57', '43', '56', '51', '50']\n",
      "['10 Oklahoma State', '23', '22', '37', '31', '49', '49']\n",
      "['10 Wichita State', '68', '65', '69', '72', '75', '74']\n",
      "['11 Xavier', '43', '39', '49', '58', '51', '54']\n",
      "['11 Providence / U.S.C.', '15', '19', '21', '16', '23', '25']\n",
      "['11 Kansas State / Wake Forest', '18', '17', '37', '29', '39', '34']\n",
      "['11 Rhode Island', '39', '36', '44', '39', '40', '35']\n",
      "['12 U.N.C. Wilmington', '21', '19', '16', '11', '22', '15']\n",
      "['12 Nevada', '21', '20', '17', '23', '27', '23']\n",
      "['12 Middle Tennessee', '41', '38', '48', '46', '46', '38']\n",
      "['12 Princeton', '14', '13', '25', '24', '31', '22']\n",
      "['13 East Tennessee State', '17', '14', '13', '8', '17', '12']\n",
      "['13 Vermont', '11', '11', '14', '16', '23', '15']\n",
      "['13 Bucknell', '9', '9', '10', '7', '12', '7']\n",
      "['13 Winthrop', '8', '7', '11', '11', '16', '11']\n",
      "['14 Iona', '6', '4', '8', '4', '11', '6']\n",
      "['14 New Mexico State', '7', '6', '10', '9', '16', '11']\n",
      "['14 Florida Gulf Coast', '19', '15', '12', '13', '14', '9']\n",
      "['14 Kent State', '3', '3', '6', '4', '8', '6']\n",
      "['15 North Dakota', '2', '2', '5', '7', '8', '5']\n",
      "['15 Jacksonville State', '2', '2', '3', '2', '7', '2']\n",
      "['15 Northern Kentucky', '1', '1', '3', '3', '4', '3']\n",
      "['15 Troy', '1', '1', '3', '5', '8', '3']\n",
      "['16 South Dakota State', '1', '1', '2', '2', '2', '1']\n",
      "['16 Texas Southern', '1', '1', '2', '2', '2', '1']\n",
      "[\"16 Mt. Saint Mary's / New Orleans\", '1', '1', '1', '1', '3', '1']\n",
      "['16 N.C. Central / U.C. Davis', '1', '1', '2', '3', '5', '2']\n"
     ]
    }
   ],
   "source": [
    "for i in rows:\n",
    "    print i\n",
    "        "
   ]
  },
  {
   "cell_type": "code",
   "execution_count": 13,
   "metadata": {
    "collapsed": false
   },
   "outputs": [
    {
     "data": {
      "text/plain": [
       "'16 N.C. Central / U.C. Davis'"
      ]
     },
     "execution_count": 13,
     "metadata": {},
     "output_type": "execute_result"
    }
   ],
   "source": [
    "rows[63][0]"
   ]
  },
  {
   "cell_type": "code",
   "execution_count": 14,
   "metadata": {
    "collapsed": false
   },
   "outputs": [
    {
     "name": "stdout",
     "output_type": "stream",
     "text": [
      "1 Villanova 1 Gonzaga 1 North Carolina 1 Kansas 2 Duke 2 Kentucky 2 Arizona 2 Louisville 3 Baylor 3 Florida State 3 Oregon 3 U.C.L.A. 4 Purdue 4 Butler 4 West Virginia 4 Florida 5 Virginia 5 Iowa State 5 Notre Dame 5 Minnesota 6 Cincinnati 6 S.M.U. 6 Creighton 6 Maryland 7 Saint Mary's 7 Michigan 7 Dayton 7 South Carolina 8 Arkansas 8 Northwestern 8 Miami 8 Wisconsin 9 Seton Hall 9 Michigan State 9 Vanderbilt 9 Virginia Tech 10 Virginia Commonwealth 10 Marquette 10 Oklahoma State 10 Wichita State 11 Xavier 11 Providence / U.S.C. 11 Kansas State / Wake Forest 11 Rhode Island 12 U.N.C. Wilmington 12 Nevada 12 Middle Tennessee 12 Princeton 13 East Tennessee State 13 Vermont 13 Bucknell 13 Winthrop 14 Iona 14 New Mexico State 14 Florida Gulf Coast 14 Kent State 15 North Dakota 15 Jacksonville State 15 Northern Kentucky 15 Troy 16 South Dakota State 16 Texas Southern 16 Mt. Saint Mary's / New Orleans 16 N.C. Central / U.C. Davis\n"
     ]
    }
   ],
   "source": [
    "for row in rows:\n",
    "    print row[0],"
   ]
  },
  {
   "cell_type": "code",
   "execution_count": 15,
   "metadata": {
    "collapsed": false
   },
   "outputs": [],
   "source": [
    "header = sum(header,[]) # Man this is useful"
   ]
  },
  {
   "cell_type": "code",
   "execution_count": 16,
   "metadata": {
    "collapsed": false
   },
   "outputs": [
    {
     "data": {
      "text/plain": [
       "['School', 'CBS Sports', 'Yahoo!', '538', 'ESPN', 'Pomeroy', 'Sagarin']"
      ]
     },
     "execution_count": 16,
     "metadata": {},
     "output_type": "execute_result"
    }
   ],
   "source": [
    "header"
   ]
  },
  {
   "cell_type": "code",
   "execution_count": 17,
   "metadata": {
    "collapsed": false
   },
   "outputs": [
    {
     "name": "stdout",
     "output_type": "stream",
     "text": [
      "['School', 'CBS Sports', 'Yahoo!', '538', 'ESPN', 'Pomeroy', 'Sagarin']\n",
      "{'CBS Sports': [0.99, 0.99, 0.99, 0.99, 0.99, 0.99, 0.98, 0.98, 0.93, 0.82, 0.94, 0.97, 0.89, 0.93, 0.91, 0.83, 0.79, 0.79, 0.86, 0.59, 0.82, 0.85, 0.61, 0.57, 0.48, 0.77, 0.32, 0.44, 0.46, 0.53, 0.41, 0.71, 0.54, 0.59, 0.47, 0.29, 0.52, 0.56, 0.23, 0.68, 0.43, 0.15, 0.18, 0.39, 0.21, 0.21, 0.41, 0.14, 0.17, 0.11, 0.09, 0.08, 0.06, 0.07, 0.19, 0.03, 0.02, 0.02, 0.01, 0.01, 0.01, 0.01, 0.01, 0.01], 'Pomeroy': [0.97, 0.99, 0.98, 0.95, 0.92, 0.96, 0.93, 0.93, 0.84, 0.86, 0.89, 0.92, 0.77, 0.84, 0.88, 0.83, 0.79, 0.73, 0.69, 0.54, 0.61, 0.77, 0.6, 0.49, 0.71, 0.51, 0.25, 0.49, 0.54, 0.49, 0.54, 0.67, 0.46, 0.46, 0.52, 0.34, 0.29, 0.51, 0.49, 0.75, 0.51, 0.23, 0.39, 0.4, 0.22, 0.27, 0.46, 0.31, 0.17, 0.23, 0.12, 0.16, 0.11, 0.16, 0.14, 0.08, 0.08, 0.07, 0.04, 0.08, 0.02, 0.02, 0.03, 0.05], 'Sagarin': [0.99, 0.99, 0.99, 0.98, 0.97, 0.97, 0.95, 0.98, 0.89, 0.91, 0.94, 0.94, 0.85, 0.89, 0.93, 0.88, 0.85, 0.77, 0.78, 0.62, 0.66, 0.75, 0.65, 0.46, 0.68, 0.51, 0.26, 0.5, 0.54, 0.51, 0.55, 0.71, 0.46, 0.45, 0.49, 0.29, 0.32, 0.5, 0.49, 0.74, 0.54, 0.25, 0.34, 0.35, 0.15, 0.23, 0.38, 0.22, 0.12, 0.15, 0.07, 0.11, 0.06, 0.11, 0.09, 0.06, 0.05, 0.02, 0.03, 0.03, 0.01, 0.01, 0.01, 0.02], 'ESPN': [0.99, 0.98, 0.98, 0.97, 0.95, 0.97, 0.93, 0.98, 0.91, 0.87, 0.96, 0.96, 0.84, 0.89, 0.93, 0.92, 0.89, 0.77, 0.76, 0.54, 0.71, 0.84, 0.61, 0.42, 0.82, 0.69, 0.28, 0.44, 0.54, 0.47, 0.57, 0.75, 0.46, 0.43, 0.53, 0.25, 0.18, 0.56, 0.31, 0.72, 0.58, 0.16, 0.29, 0.39, 0.11, 0.23, 0.46, 0.24, 0.08, 0.16, 0.07, 0.11, 0.04, 0.09, 0.13, 0.04, 0.07, 0.02, 0.03, 0.05, 0.02, 0.02, 0.01, 0.03], 'Yahoo!': [0.99, 0.96, 0.95, 0.96, 0.96, 0.95, 0.95, 0.94, 0.91, 0.81, 0.91, 0.93, 0.84, 0.88, 0.87, 0.83, 0.78, 0.75, 0.82, 0.56, 0.76, 0.77, 0.58, 0.56, 0.5, 0.73, 0.3, 0.39, 0.45, 0.48, 0.38, 0.69, 0.49, 0.56, 0.47, 0.28, 0.45, 0.57, 0.22, 0.65, 0.39, 0.19, 0.17, 0.36, 0.19, 0.2, 0.38, 0.13, 0.14, 0.11, 0.09, 0.07, 0.04, 0.06, 0.15, 0.03, 0.02, 0.02, 0.01, 0.01, 0.01, 0.01, 0.01, 0.01], '538': [0.99, 0.98, 0.98, 0.98, 0.97, 0.97, 0.95, 0.97, 0.9, 0.88, 0.92, 0.94, 0.86, 0.89, 0.9, 0.87, 0.84, 0.83, 0.75, 0.52, 0.63, 0.79, 0.56, 0.51, 0.74, 0.63, 0.31, 0.57, 0.51, 0.45, 0.55, 0.79, 0.49, 0.45, 0.55, 0.21, 0.26, 0.43, 0.37, 0.69, 0.49, 0.21, 0.37, 0.44, 0.16, 0.17, 0.48, 0.25, 0.13, 0.14, 0.1, 0.11, 0.08, 0.1, 0.12, 0.06, 0.05, 0.03, 0.03, 0.03, 0.02, 0.02, 0.01, 0.02]}\n"
     ]
    }
   ],
   "source": [
    "# Now useful dictionaries\n",
    "print header\n",
    "proj = {}\n",
    "for i,l in enumerate(rows):\n",
    "    for j,val in enumerate(header):\n",
    "        proj[val] = [i[j] for i in rows] # includes \"school\" column too\n",
    "proj.pop('School',None) # Don't actually need the \"school\" entry\n",
    "\n",
    "for key in header[1:]: # And now I can make them floats and turn into decimals\n",
    "    values = proj[key]\n",
    "    values_float = [float(i)/100. for i in values]\n",
    "    proj[key] = values_float\n",
    "    \n",
    "print proj"
   ]
  },
  {
   "cell_type": "code",
   "execution_count": 18,
   "metadata": {
    "collapsed": false
   },
   "outputs": [],
   "source": [
    "# 'CBS Sports', 'Yahoo!', '538', 'ESPN', 'Pomeroy', 'Sagarin'\n",
    "# projlists = ['school','cbs','yahoo','f38','espn','pomeroy','sagarin']\n",
    "# for i,key in enumerate(projlists):\n",
    "#     sch_list = [school_name[x][0] for x[]\n",
    "# I'm not sure this will really be useful for anything so I'll come back to it if I need it\n"
   ]
  },
  {
   "cell_type": "markdown",
   "metadata": {},
   "source": [
    "## Analysis\n",
    "----"
   ]
  },
  {
   "cell_type": "markdown",
   "metadata": {},
   "source": [
    "To move on to the analysis part, I'm going to treat each of the projections as discrete events, and combine them all together through a simulation. So for each projection, I'm going to simulate 5,000 events, then sum all the events in a \"combined probabilities\" metric. "
   ]
  },
  {
   "cell_type": "code",
   "execution_count": 19,
   "metadata": {
    "collapsed": true
   },
   "outputs": [],
   "source": [
    "BDA_combined_probs = {}"
   ]
  },
  {
   "cell_type": "code",
   "execution_count": 20,
   "metadata": {
    "collapsed": true
   },
   "outputs": [],
   "source": [
    "import random\n",
    "import numpy as np"
   ]
  },
  {
   "cell_type": "code",
   "execution_count": 21,
   "metadata": {
    "collapsed": false
   },
   "outputs": [
    {
     "data": {
      "text/plain": [
       "0.3301888995493908"
      ]
     },
     "execution_count": 21,
     "metadata": {},
     "output_type": "execute_result"
    }
   ],
   "source": [
    "random.random()"
   ]
  },
  {
   "cell_type": "code",
   "execution_count": 22,
   "metadata": {
    "collapsed": true
   },
   "outputs": [],
   "source": [
    "def gameresults(n,prob):\n",
    "    wins = 0.\n",
    "    for i in range(n):\n",
    "        game = random.random() #produces random number between 0-1\n",
    "        if game<prob:\n",
    "            wins+=1\n",
    "    win_prob = wins/n\n",
    "#     print win_prob\n",
    "    return wins"
   ]
  },
  {
   "cell_type": "code",
   "execution_count": 23,
   "metadata": {
    "collapsed": false
   },
   "outputs": [
    {
     "data": {
      "text/plain": [
       "6974.0"
      ]
     },
     "execution_count": 23,
     "metadata": {},
     "output_type": "execute_result"
    }
   ],
   "source": [
    "gameresults(10000,.7)"
   ]
  },
  {
   "cell_type": "code",
   "execution_count": 24,
   "metadata": {
    "collapsed": true
   },
   "outputs": [],
   "source": [
    "def sim_basketball(n):\n",
    "    combined_probs = []\n",
    "    for i,school in enumerate(school_names):\n",
    "        total_wins = 0\n",
    "        total_played = 0\n",
    "        for hed in header[1:]: # for each of the projections\n",
    "            probability = proj[hed][i]\n",
    "            wins = gameresults(n,probability)\n",
    "            total_wins += wins\n",
    "            total_played+=(n)\n",
    "        BDA_combined_probs[school] = total_wins/total_played\n",
    "        combined_probs += (school,(total_wins/total_played))\n",
    "    return float(total_wins)/total_played"
   ]
  },
  {
   "cell_type": "code",
   "execution_count": 25,
   "metadata": {
    "collapsed": false
   },
   "outputs": [
    {
     "data": {
      "text/plain": [
       "0.0"
      ]
     },
     "execution_count": 25,
     "metadata": {},
     "output_type": "execute_result"
    }
   ],
   "source": [
    "gameresults(100,proj['ESPN'][61])"
   ]
  },
  {
   "cell_type": "code",
   "execution_count": 26,
   "metadata": {
    "collapsed": false
   },
   "outputs": [
    {
     "data": {
      "text/plain": [
       "0.024116666666666668"
      ]
     },
     "execution_count": 26,
     "metadata": {},
     "output_type": "execute_result"
    }
   ],
   "source": [
    "sim_basketball(10000)"
   ]
  },
  {
   "cell_type": "code",
   "execution_count": 27,
   "metadata": {
    "collapsed": false,
    "scrolled": true
   },
   "outputs": [
    {
     "data": {
      "text/plain": [
       "{'Arizona': 0.9465666666666667,\n",
       " 'Arkansas': 0.5058833333333334,\n",
       " 'Baylor': 0.8934333333333333,\n",
       " 'Bucknell': 0.08896666666666667,\n",
       " 'Butler': 0.8852333333333333,\n",
       " 'Cincinnati': 0.69495,\n",
       " 'Creighton': 0.6025166666666667,\n",
       " 'Dayton': 0.28818333333333335,\n",
       " 'Duke': 0.9592166666666667,\n",
       " 'East Tennessee State': 0.13418333333333332,\n",
       " 'Florida': 0.8591833333333333,\n",
       " 'Florida Gulf Coast': 0.13731666666666667,\n",
       " 'Florida State': 0.85805,\n",
       " 'Gonzaga': 0.98125,\n",
       " 'Iona': 0.0641,\n",
       " 'Iowa State': 0.7742,\n",
       " 'Jacksonville State': 0.02981666666666667,\n",
       " 'Kansas': 0.9717333333333333,\n",
       " 'Kansas State / Wake Forest': 0.2901166666666667,\n",
       " 'Kent State': 0.050633333333333336,\n",
       " 'Kentucky': 0.9677666666666667,\n",
       " 'Louisville': 0.9637833333333333,\n",
       " 'Marquette': 0.5207833333333334,\n",
       " 'Maryland': 0.5024833333333333,\n",
       " 'Miami': 0.5005833333333334,\n",
       " 'Michigan': 0.6395833333333333,\n",
       " 'Michigan State': 0.4899,\n",
       " 'Middle Tennessee': 0.4242166666666667,\n",
       " 'Minnesota': 0.5628833333333333,\n",
       " \"Mt. Saint Mary's / New Orleans\": 0.013116666666666667,\n",
       " 'N.C. Central / U.C. Davis': 0.024116666666666668,\n",
       " 'Nevada': 0.21883333333333332,\n",
       " 'New Mexico State': 0.09775,\n",
       " 'North Carolina': 0.9786666666666667,\n",
       " 'North Dakota': 0.04756666666666667,\n",
       " 'Northern Kentucky': 0.024983333333333333,\n",
       " 'Northwestern': 0.4868,\n",
       " 'Notre Dame': 0.7781833333333333,\n",
       " 'Oklahoma State': 0.35131666666666667,\n",
       " 'Oregon': 0.9274,\n",
       " 'Princeton': 0.21583333333333332,\n",
       " 'Providence / U.S.C.': 0.19775,\n",
       " 'Purdue': 0.8421666666666666,\n",
       " 'Rhode Island': 0.38806666666666667,\n",
       " 'S.M.U.': 0.7961166666666667,\n",
       " \"Saint Mary's\": 0.6554166666666666,\n",
       " 'Seton Hall': 0.4851666666666667,\n",
       " 'South Carolina': 0.4701,\n",
       " 'South Dakota State': 0.014683333333333333,\n",
       " 'Texas Southern': 0.014783333333333334,\n",
       " 'Troy': 0.034883333333333336,\n",
       " 'U.C.L.A.': 0.9430166666666666,\n",
       " 'U.N.C. Wilmington': 0.17446666666666666,\n",
       " 'Vanderbilt': 0.504,\n",
       " 'Vermont': 0.14976666666666666,\n",
       " 'Villanova': 0.9868333333333333,\n",
       " 'Virginia': 0.8224833333333333,\n",
       " 'Virginia Commonwealth': 0.33808333333333335,\n",
       " 'Virginia Tech': 0.27858333333333335,\n",
       " 'West Virginia': 0.9030666666666667,\n",
       " 'Wichita State': 0.7054833333333334,\n",
       " 'Winthrop': 0.10833333333333334,\n",
       " 'Wisconsin': 0.71895,\n",
       " 'Xavier': 0.49066666666666664}"
      ]
     },
     "execution_count": 27,
     "metadata": {},
     "output_type": "execute_result"
    }
   ],
   "source": [
    "BDA_combined_probs"
   ]
  },
  {
   "cell_type": "code",
   "execution_count": 28,
   "metadata": {
    "collapsed": true
   },
   "outputs": [],
   "source": [
    "combined_probs = []\n",
    "num_rows_str = [i[1:] for i in rows]"
   ]
  },
  {
   "cell_type": "code",
   "execution_count": 41,
   "metadata": {
    "collapsed": false
   },
   "outputs": [
    {
     "data": {
      "text/plain": [
       "[['Villanova',\n",
       "  0.9868333333333333,\n",
       "  0.98666666666666669,\n",
       "  0.00016666666666664831],\n",
       " ['Gonzaga', 0.98125, 0.98166666666666669, -0.0004166666666667318],\n",
       " ['North Carolina',\n",
       "  0.9786666666666667,\n",
       "  0.97833333333333328,\n",
       "  0.00033333333333340764],\n",
       " ['Kansas', 0.9717333333333333, 0.97166666666666668, 6.6666666666659324e-05],\n",
       " ['Duke', 0.9592166666666667, 0.95999999999999996, -0.00078333333333324706],\n",
       " ['Kentucky',\n",
       "  0.9677666666666667,\n",
       "  0.96833333333333327,\n",
       "  -0.00056666666666660426],\n",
       " ['Arizona', 0.9465666666666667, 0.94833333333333325, -0.0017666666666665831],\n",
       " ['Louisville',\n",
       "  0.9637833333333333,\n",
       "  0.96333333333333326,\n",
       "  0.00045000000000006146],\n",
       " ['Baylor', 0.8934333333333333, 0.89666666666666672, -0.0032333333333334213],\n",
       " ['Florida State', 0.85805, 0.85833333333333328, -0.00028333333333330213],\n",
       " ['Oregon', 0.9274, 0.92666666666666675, 0.00073333333333325257],\n",
       " ['U.C.L.A.',\n",
       "  0.9430166666666666,\n",
       "  0.94333333333333325,\n",
       "  -0.00031666666666663179],\n",
       " ['Purdue', 0.8421666666666666, 0.84166666666666667, 0.00049999999999994493],\n",
       " ['Butler', 0.8852333333333333, 0.88666666666666671, -0.0014333333333333975],\n",
       " ['West Virginia',\n",
       "  0.9030666666666667,\n",
       "  0.90333333333333332,\n",
       "  -0.0002666666666666373],\n",
       " ['Florida', 0.8591833333333333, 0.85999999999999999, -0.00081666666666668775],\n",
       " ['Virginia',\n",
       "  0.8224833333333333,\n",
       "  0.82333333333333325,\n",
       "  -0.00084999999999990639],\n",
       " ['Iowa State', 0.7742, 0.77333333333333332, 0.00086666666666668224],\n",
       " ['Notre Dame',\n",
       "  0.7781833333333333,\n",
       "  0.77666666666666673,\n",
       "  0.0015166666666666107],\n",
       " ['Minnesota', 0.5628833333333333, 0.56166666666666665, 0.0012166666666666437],\n",
       " ['Cincinnati', 0.69495, 0.69833333333333325, -0.0033833333333332938],\n",
       " ['S.M.U.', 0.7961166666666667, 0.79500000000000004, 0.0011166666666666547],\n",
       " ['Creighton',\n",
       "  0.6025166666666667,\n",
       "  0.60166666666666668,\n",
       "  0.00085000000000001741],\n",
       " ['Maryland', 0.5024833333333333, 0.50166666666666659, 0.00081666666666668775],\n",
       " [\"Saint Mary's\",\n",
       "  0.6554166666666666,\n",
       "  0.65500000000000003,\n",
       "  0.00041666666666662078],\n",
       " ['Michigan', 0.6395833333333333, 0.64000000000000001, -0.0004166666666667318],\n",
       " ['Dayton', 0.28818333333333335, 0.28666666666666668, 0.0015166666666666662],\n",
       " ['South Carolina', 0.4701, 0.47166666666666662, -0.0015666666666666051],\n",
       " ['Arkansas', 0.5058833333333334, 0.5066666666666666, -0.00078333333333324706],\n",
       " ['Northwestern', 0.4868, 0.48833333333333334, -0.001533333333333331],\n",
       " ['Miami', 0.5005833333333334, 0.5, 0.00058333333333338011],\n",
       " ['Wisconsin', 0.71895, 0.71999999999999997, -0.0010499999999999954],\n",
       " ['Seton Hall',\n",
       "  0.4851666666666667,\n",
       "  0.48333333333333334,\n",
       "  0.0018333333333333535],\n",
       " ['Michigan State', 0.4899, 0.48999999999999999, -9.9999999999988987e-05],\n",
       " ['Vanderbilt', 0.504, 0.505, -0.0010000000000000009],\n",
       " ['Virginia Tech',\n",
       "  0.27858333333333335,\n",
       "  0.27666666666666667,\n",
       "  0.0019166666666666776],\n",
       " ['Virginia Commonwealth',\n",
       "  0.33808333333333335,\n",
       "  0.33666666666666667,\n",
       "  0.0014166666666666772],\n",
       " ['Marquette',\n",
       "  0.5207833333333334,\n",
       "  0.52166666666666661,\n",
       "  -0.00088333333333323605],\n",
       " ['Oklahoma State',\n",
       "  0.35131666666666667,\n",
       "  0.35166666666666663,\n",
       "  -0.00034999999999996145],\n",
       " ['Wichita State',\n",
       "  0.7054833333333334,\n",
       "  0.70499999999999996,\n",
       "  0.00048333333333339112],\n",
       " ['Xavier', 0.49066666666666664, 0.48999999999999999, 0.00066666666666664876],\n",
       " ['Providence / U.S.C.', 0.19775, 0.19833333333333333, -0.0005833333333333246],\n",
       " ['Kansas State / Wake Forest',\n",
       "  0.2901166666666667,\n",
       "  0.28999999999999998,\n",
       "  0.00011666666666670933],\n",
       " ['Rhode Island',\n",
       "  0.38806666666666667,\n",
       "  0.38833333333333336,\n",
       "  -0.00026666666666669281],\n",
       " ['U.N.C. Wilmington',\n",
       "  0.17446666666666666,\n",
       "  0.17333333333333331,\n",
       "  0.0011333333333333473],\n",
       " ['Nevada', 0.21883333333333332, 0.21833333333333332, 0.00050000000000000044],\n",
       " ['Middle Tennessee',\n",
       "  0.4242166666666667,\n",
       "  0.42833333333333334,\n",
       "  -0.0041166666666666574],\n",
       " ['Princeton', 0.21583333333333332, 0.215, 0.00083333333333332482],\n",
       " ['East Tennessee State',\n",
       "  0.13418333333333332,\n",
       "  0.13500000000000001,\n",
       "  -0.00081666666666668775],\n",
       " ['Vermont',\n",
       "  0.14976666666666666,\n",
       "  0.14999999999999999,\n",
       "  -0.00023333333333333539],\n",
       " ['Bucknell',\n",
       "  0.08896666666666667,\n",
       "  0.089999999999999997,\n",
       "  -0.0010333333333333306],\n",
       " ['Winthrop', 0.10833333333333334, 0.10666666666666666, 0.0016666666666666774],\n",
       " ['Iona', 0.0641, 0.065000000000000002, -0.00089999999999999802],\n",
       " ['New Mexico State', 0.09775, 0.098333333333333342, -0.00058333333333333848],\n",
       " ['Florida Gulf Coast',\n",
       "  0.13731666666666667,\n",
       "  0.13666666666666666,\n",
       "  0.00065000000000001168],\n",
       " ['Kent State',\n",
       "  0.050633333333333336,\n",
       "  0.050000000000000003,\n",
       "  0.00063333333333333297],\n",
       " ['North Dakota',\n",
       "  0.04756666666666667,\n",
       "  0.048333333333333332,\n",
       "  -0.0007666666666666655],\n",
       " ['Jacksonville State',\n",
       "  0.02981666666666667,\n",
       "  0.029999999999999999,\n",
       "  -0.00018333333333333049],\n",
       " ['Northern Kentucky',\n",
       "  0.024983333333333333,\n",
       "  0.025000000000000001,\n",
       "  -1.6666666666668301e-05],\n",
       " ['Troy', 0.034883333333333336, 0.035000000000000003, -0.0001166666666666677],\n",
       " ['South Dakota State',\n",
       "  0.014683333333333333,\n",
       "  0.014999999999999999,\n",
       "  -0.00031666666666666649],\n",
       " ['Texas Southern',\n",
       "  0.014783333333333334,\n",
       "  0.014999999999999999,\n",
       "  -0.00021666666666666536],\n",
       " [\"Mt. Saint Mary's / New Orleans\",\n",
       "  0.013116666666666667,\n",
       "  0.013333333333333332,\n",
       "  -0.00021666666666666536],\n",
       " ['N.C. Central / U.C. Davis',\n",
       "  0.024116666666666668,\n",
       "  0.023333333333333334,\n",
       "  0.0007833333333333338]]"
      ]
     },
     "execution_count": 41,
     "metadata": {},
     "output_type": "execute_result"
    }
   ],
   "source": [
    "combined_probs=[]\n",
    "for i,s in enumerate(school_names):\n",
    "    prob = BDA_combined_probs[s]\n",
    "    avg = np.mean([int(x) for x in num_rows_str[i]])/100 # need to convert to decimal\n",
    "    diff = prob-avg # Just curious\n",
    "    combined_probs.append([s,prob,avg,diff]) \n",
    "combined_probs"
   ]
  },
  {
   "cell_type": "markdown",
   "metadata": {},
   "source": [
    ">Looks like I could have just used the average instead of the simulation."
   ]
  },
  {
   "cell_type": "code",
   "execution_count": 64,
   "metadata": {
    "collapsed": true
   },
   "outputs": [
    {
     "data": {
      "text/plain": [
       "(['Villanova',\n",
       "  'Gonzaga',\n",
       "  'North Carolina',\n",
       "  'Kansas',\n",
       "  'Duke',\n",
       "  'Kentucky',\n",
       "  'Arizona',\n",
       "  'Louisville',\n",
       "  'Baylor',\n",
       "  'Florida State',\n",
       "  'Oregon',\n",
       "  'U.C.L.A.',\n",
       "  'Purdue',\n",
       "  'Butler',\n",
       "  'West Virginia',\n",
       "  'Florida',\n",
       "  'Virginia',\n",
       "  'Iowa State',\n",
       "  'Notre Dame',\n",
       "  'Minnesota',\n",
       "  'Cincinnati',\n",
       "  'S.M.U.',\n",
       "  'Creighton',\n",
       "  'Maryland',\n",
       "  \"Saint Mary's\",\n",
       "  'Michigan',\n",
       "  'Dayton',\n",
       "  'South Carolina',\n",
       "  'Arkansas',\n",
       "  'Northwestern',\n",
       "  'Miami',\n",
       "  'Wisconsin',\n",
       "  'Seton Hall',\n",
       "  'Michigan State',\n",
       "  'Vanderbilt',\n",
       "  'Virginia Tech',\n",
       "  'Virginia Commonwealth',\n",
       "  'Marquette',\n",
       "  'Oklahoma State',\n",
       "  'Wichita State',\n",
       "  'Xavier',\n",
       "  'Providence / U.S.C.',\n",
       "  'Kansas State / Wake Forest',\n",
       "  'Rhode Island',\n",
       "  'U.N.C. Wilmington',\n",
       "  'Nevada',\n",
       "  'Middle Tennessee',\n",
       "  'Princeton',\n",
       "  'East Tennessee State',\n",
       "  'Vermont',\n",
       "  'Bucknell',\n",
       "  'Winthrop',\n",
       "  'Iona',\n",
       "  'New Mexico State',\n",
       "  'Florida Gulf Coast',\n",
       "  'Kent State',\n",
       "  'North Dakota',\n",
       "  'Jacksonville State',\n",
       "  'Northern Kentucky',\n",
       "  'Troy',\n",
       "  'South Dakota State',\n",
       "  'Texas Southern',\n",
       "  \"Mt. Saint Mary's / New Orleans\",\n",
       "  'N.C. Central / U.C. Davis'],)"
      ]
     },
     "execution_count": 64,
     "metadata": {},
     "output_type": "execute_result"
    }
   ],
   "source": [
    "school_names,"
   ]
  },
  {
   "cell_type": "code",
   "execution_count": 67,
   "metadata": {
    "collapsed": false
   },
   "outputs": [],
   "source": [
    "# First Round results\n",
    "round1 = {\n",
    "    'Villanova':76,'Gonzaga': 66, 'North Carolina':103, 'Kansas':100, \n",
    "    'Duke':87,'Kentucky': 79, 'Arizona': 100, 'Louisville': 78,\n",
    "    'Baylor': 91, 'Florida State': 86, 'Oregon': 93,'U.C.L.A.':97, \n",
    "    'Purdue':80, 'Butler':76, 'West Virginia':86, 'Florida':80, \n",
    "    'Virginia':76, 'Iowa State':76, 'Notre Dame':60, 'Minnesota': 72, \n",
    "    'Cincinnati': 75, 'S.M.U.': 65, 'Creighton':72, 'Maryland': 65, \n",
    "    \"Saint Mary's\": 85, 'Michigan': 92, 'Dayton': 58, 'South Carolina': 93,\n",
    "    'Arkansas': 77, 'Northwestern': 68, 'Miami': 58, 'Wisconsin': 84,\n",
    "    'Seton Hall': 71, 'Michigan State': 78, 'Vanderbilt': 66, 'Virginia Tech': 74,\n",
    "    'Virginia Commonwealth': 77,'Marquette': 73, 'Oklahoma State': 91,\n",
    "    'Wichita State':64, 'Xavier': 76, 'Providence / U.S.C.': 66, 'Kansas State / Wake Forest': 61, 'Rhode Island': 84, \n",
    "    'U.N.C. Wilmington': 71, 'Nevada': 73, 'Middle Tennessee': 81, 'Princeton': 58,\n",
    "    'East Tennessee State': 65, 'Vermont': 70, 'Bucknell': 80, 'Winthrop': 64, 'Iona': 77, 'New Mexico State': 73, 'Florida Gulf Coast': 80,\n",
    "    'Kent State': 80, 'North Dakota':82,\n",
    "    'Jacksonville State': 63, 'Northern Kentucky': 70, 'Troy': 65,\n",
    "    'South Dakota State': 46, 'Texas Southern': 64, \"Mt. Saint Mary's / New Orleans\": 56,\n",
    "    'N.C. Central / U.C. Davis': 62}\n"
   ]
  },
  {
   "cell_type": "code",
   "execution_count": 74,
   "metadata": {
    "collapsed": true
   },
   "outputs": [],
   "source": [
    "rd_1_results = {}\n",
    "for i,val in enumerate(school_names):\n",
    "    top_seed = school_names[i]\n",
    "    bottom_seed= school_names[-1-i]\n",
    "    rd_1_results[val]=round1[top_seed] - round1[bottom_seed]"
   ]
  },
  {
   "cell_type": "code",
   "execution_count": 76,
   "metadata": {
    "collapsed": false
   },
   "outputs": [
    {
     "name": "stdout",
     "output_type": "stream",
     "text": [
      "{'Princeton': -18, 'Villanova': 14, 'U.C.L.A.': 20, 'Jacksonville State': -37, 'Minnesota': 1, 'East Tennessee State': -15, 'Vanderbilt': -2, 'Louisville': -4, 'Michigan State': 20, 'Arkansas': 3, 'Northern Kentucky': -9, 'Butler': -4, 'Maryland': -11, 'Kansas State / Wake Forest': -4, 'Bucknell': 4, 'South Dakota State': -54, 'Arizona': 37, 'Wisconsin': 13, 'Dayton': -15, 'N.C. Central / U.C. Davis': -14, 'Michigan': 1, 'Kansas': 54, 'Virginia': 18, 'Oregon': 20, 'Iowa State': -5, 'Florida State': 6, 'Middle Tennessee': 5, 'West Virginia': 16, 'South Carolina': 16, 'Florida Gulf Coast': -6, 'Northwestern': 2, 'Vermont': -16, 'North Dakota': 4, 'Purdue': 16, 'Miami': -20, 'Providence / U.S.C.': -6, 'Florida': 15, 'S.M.U.': 4, 'Kentucky': 9, 'Rhode Island': 9, 'Baylor': 11, \"Saint Mary's\": 21, 'Oklahoma State': -1, 'Kent State': -11, 'New Mexico State': -20, 'Xavier': 11, 'Notre Dame': -13, 'Creighton': 6, 'Winthrop': -16, 'Duke': 22, 'Texas Southern': -39, 'Cincinnati': -9, 'U.N.C. Wilmington': -1, 'Seton Hall': -13, 'Virginia Commonwealth': -16, 'North Carolina': 39, 'Troy': -22, 'Iona': -20, \"Mt. Saint Mary's / New Orleans\": -10, 'Gonzaga': 10, 'Marquette': 15, 'Nevada': 13, 'Wichita State': -21, 'Virginia Tech': -3}\n"
     ]
    }
   ],
   "source": [
    "print rd_1_results"
   ]
  },
  {
   "cell_type": "code",
   "execution_count": 97,
   "metadata": {
    "collapsed": false
   },
   "outputs": [],
   "source": [
    "graph_cols = {}\n",
    "win_prob = []\n",
    "r1_results = []\n",
    "for v in school_names:\n",
    "    school = v\n",
    "    probs = BDA_combined_probs[v]\n",
    "    result = rd_1_results[v]\n",
    "    graph_cols[v]=(probs,result)\n",
    "    r1_results.append(result)\n",
    "    win_prob.append(probs)"
   ]
  },
  {
   "cell_type": "code",
   "execution_count": 98,
   "metadata": {
    "collapsed": false
   },
   "outputs": [
    {
     "data": {
      "text/plain": [
       "{'Arizona': (0.9465666666666667, 37),\n",
       " 'Arkansas': (0.5058833333333334, 3),\n",
       " 'Baylor': (0.8934333333333333, 11),\n",
       " 'Bucknell': (0.08896666666666667, 4),\n",
       " 'Butler': (0.8852333333333333, -4),\n",
       " 'Cincinnati': (0.69495, -9),\n",
       " 'Creighton': (0.6025166666666667, 6),\n",
       " 'Dayton': (0.28818333333333335, -15),\n",
       " 'Duke': (0.9592166666666667, 22),\n",
       " 'East Tennessee State': (0.13418333333333332, -15),\n",
       " 'Florida': (0.8591833333333333, 15),\n",
       " 'Florida Gulf Coast': (0.13731666666666667, -6),\n",
       " 'Florida State': (0.85805, 6),\n",
       " 'Gonzaga': (0.98125, 10),\n",
       " 'Iona': (0.0641, -20),\n",
       " 'Iowa State': (0.7742, -5),\n",
       " 'Jacksonville State': (0.02981666666666667, -37),\n",
       " 'Kansas': (0.9717333333333333, 54),\n",
       " 'Kansas State / Wake Forest': (0.2901166666666667, -4),\n",
       " 'Kent State': (0.050633333333333336, -11),\n",
       " 'Kentucky': (0.9677666666666667, 9),\n",
       " 'Louisville': (0.9637833333333333, -4),\n",
       " 'Marquette': (0.5207833333333334, 15),\n",
       " 'Maryland': (0.5024833333333333, -11),\n",
       " 'Miami': (0.5005833333333334, -20),\n",
       " 'Michigan': (0.6395833333333333, 1),\n",
       " 'Michigan State': (0.4899, 20),\n",
       " 'Middle Tennessee': (0.4242166666666667, 5),\n",
       " 'Minnesota': (0.5628833333333333, 1),\n",
       " \"Mt. Saint Mary's / New Orleans\": (0.013116666666666667, -10),\n",
       " 'N.C. Central / U.C. Davis': (0.024116666666666668, -14),\n",
       " 'Nevada': (0.21883333333333332, 13),\n",
       " 'New Mexico State': (0.09775, -20),\n",
       " 'North Carolina': (0.9786666666666667, 39),\n",
       " 'North Dakota': (0.04756666666666667, 4),\n",
       " 'Northern Kentucky': (0.024983333333333333, -9),\n",
       " 'Northwestern': (0.4868, 2),\n",
       " 'Notre Dame': (0.7781833333333333, -13),\n",
       " 'Oklahoma State': (0.35131666666666667, -1),\n",
       " 'Oregon': (0.9274, 20),\n",
       " 'Princeton': (0.21583333333333332, -18),\n",
       " 'Providence / U.S.C.': (0.19775, -6),\n",
       " 'Purdue': (0.8421666666666666, 16),\n",
       " 'Rhode Island': (0.38806666666666667, 9),\n",
       " 'S.M.U.': (0.7961166666666667, 4),\n",
       " \"Saint Mary's\": (0.6554166666666666, 21),\n",
       " 'Seton Hall': (0.4851666666666667, -13),\n",
       " 'South Carolina': (0.4701, 16),\n",
       " 'South Dakota State': (0.014683333333333333, -54),\n",
       " 'Texas Southern': (0.014783333333333334, -39),\n",
       " 'Troy': (0.034883333333333336, -22),\n",
       " 'U.C.L.A.': (0.9430166666666666, 20),\n",
       " 'U.N.C. Wilmington': (0.17446666666666666, -1),\n",
       " 'Vanderbilt': (0.504, -2),\n",
       " 'Vermont': (0.14976666666666666, -16),\n",
       " 'Villanova': (0.9868333333333333, 14),\n",
       " 'Virginia': (0.8224833333333333, 18),\n",
       " 'Virginia Commonwealth': (0.33808333333333335, -16),\n",
       " 'Virginia Tech': (0.27858333333333335, -3),\n",
       " 'West Virginia': (0.9030666666666667, 16),\n",
       " 'Wichita State': (0.7054833333333334, -21),\n",
       " 'Winthrop': (0.10833333333333334, -16),\n",
       " 'Wisconsin': (0.71895, 13),\n",
       " 'Xavier': (0.49066666666666664, 11)}"
      ]
     },
     "execution_count": 98,
     "metadata": {},
     "output_type": "execute_result"
    }
   ],
   "source": [
    "graph_cols"
   ]
  },
  {
   "cell_type": "code",
   "execution_count": 99,
   "metadata": {
    "collapsed": true
   },
   "outputs": [],
   "source": [
    "import matplotlib.pyplot as plt\n",
    "%matplotlib inline"
   ]
  },
  {
   "cell_type": "code",
   "execution_count": 106,
   "metadata": {
    "collapsed": false
   },
   "outputs": [
    {
     "data": {
      "text/plain": [
       "[u'seaborn-darkgrid',\n",
       " u'seaborn-notebook',\n",
       " u'classic',\n",
       " u'seaborn-ticks',\n",
       " u'grayscale',\n",
       " u'bmh',\n",
       " u'seaborn-talk',\n",
       " u'dark_background',\n",
       " u'ggplot',\n",
       " u'fivethirtyeight',\n",
       " u'seaborn-colorblind',\n",
       " u'seaborn-deep',\n",
       " u'seaborn-whitegrid',\n",
       " u'seaborn-bright',\n",
       " u'seaborn-poster',\n",
       " u'seaborn-muted',\n",
       " u'seaborn-paper',\n",
       " u'seaborn-white',\n",
       " u'seaborn-pastel',\n",
       " u'seaborn-dark',\n",
       " u'seaborn',\n",
       " u'seaborn-dark-palette']"
      ]
     },
     "execution_count": 106,
     "metadata": {},
     "output_type": "execute_result"
    }
   ],
   "source": [
    "plt.style.available"
   ]
  },
  {
   "cell_type": "code",
   "execution_count": 110,
   "metadata": {
    "collapsed": false
   },
   "outputs": [],
   "source": [
    "plt.style.use('ggplot')"
   ]
  },
  {
   "cell_type": "code",
   "execution_count": 152,
   "metadata": {
    "collapsed": false,
    "scrolled": true
   },
   "outputs": [
    {
     "ename": "AttributeError",
     "evalue": "'function' object has no attribute 'xlabel'",
     "output_type": "error",
     "traceback": [
      "\u001b[0;31m---------------------------------------------------------------------------\u001b[0m",
      "\u001b[0;31mAttributeError\u001b[0m                            Traceback (most recent call last)",
      "\u001b[0;32m<ipython-input-152-1c8a588b4e2e>\u001b[0m in \u001b[0;36m<module>\u001b[0;34m()\u001b[0m\n\u001b[1;32m      6\u001b[0m \u001b[0mplt\u001b[0m\u001b[0;34m.\u001b[0m\u001b[0mxlim\u001b[0m\u001b[0;34m(\u001b[0m\u001b[0;36m0\u001b[0m\u001b[0;34m,\u001b[0m\u001b[0;36m1\u001b[0m\u001b[0;34m)\u001b[0m\u001b[0;34m\u001b[0m\u001b[0m\n\u001b[1;32m      7\u001b[0m \u001b[0mplt\u001b[0m\u001b[0;34m.\u001b[0m\u001b[0mylim\u001b[0m\u001b[0;34m(\u001b[0m\u001b[0;34m-\u001b[0m\u001b[0;36m60\u001b[0m\u001b[0;34m,\u001b[0m\u001b[0;36m60\u001b[0m\u001b[0;34m)\u001b[0m\u001b[0;34m\u001b[0m\u001b[0m\n\u001b[0;32m----> 8\u001b[0;31m \u001b[0mplt\u001b[0m\u001b[0;34m.\u001b[0m\u001b[0mscatter\u001b[0m\u001b[0;34m.\u001b[0m\u001b[0mxlabel\u001b[0m\u001b[0;34m(\u001b[0m\u001b[0;34m\"Likelihood to win\"\u001b[0m\u001b[0;34m)\u001b[0m\u001b[0;34m\u001b[0m\u001b[0m\n\u001b[0m\u001b[1;32m      9\u001b[0m \u001b[0mplt\u001b[0m\u001b[0;34m.\u001b[0m\u001b[0mylabel\u001b[0m\u001b[0;34m(\u001b[0m\u001b[0;34m\"Winning/losing margin\"\u001b[0m\u001b[0;34m)\u001b[0m\u001b[0;34m\u001b[0m\u001b[0m\n\u001b[1;32m     10\u001b[0m \u001b[0mplt\u001b[0m\u001b[0;34m.\u001b[0m\u001b[0mtitle\u001b[0m\u001b[0;34m(\u001b[0m\u001b[0;34m\"Favorites win big, but upsets are forever\"\u001b[0m\u001b[0;34m)\u001b[0m\u001b[0;34m\u001b[0m\u001b[0m\n",
      "\u001b[0;31mAttributeError\u001b[0m: 'function' object has no attribute 'xlabel'"
     ]
    },
    {
     "data": {
      "image/png": "[encoded data removed]",
      "text/plain": [
       "<matplotlib.figure.Figure at 0x10d1a75d0>"
      ]
     },
     "metadata": {},
     "output_type": "display_data"
    }
   ],
   "source": [
    "plt.scatter(win_prob,r1_results)\n",
    "# fig,ax = plt.subplots()\n",
    "# fig = plt.figure()\n",
    "plt.plot([0, 1], [0, 0], 'k-', lw=2)\n",
    "plt.plot([.5,.5], [100, -100], 'k-', lw=2)\n",
    "plt.xlim(0,1)\n",
    "plt.ylim(-60,60)\n",
    "plt.xlabel(\"Likelihood to win\")\n",
    "plt.ylabel(\"Winning/losing margin\")\n",
    "plt.title(\"Favorites win big, but upsets are forever\")\n",
    "# ax = fig.add_subplot(1,1,1)\n",
    "# fig.sublots_adjust(top = 0.85)\n",
    "# ax.set_title = \"Favorites win big, but upsets are forever\"\n",
    "# ax.set_xlabel(\"Likelihood to win\")\n",
    "# ax.set_ylabel(\"Winning/losing margin\")\n",
    "plt.labels = [i for i in school_names]"
   ]
  },
  {
   "cell_type": "code",
   "execution_count": null,
   "metadata": {
    "collapsed": true
   },
   "outputs": [],
   "source": []
  }
 ],
 "metadata": {
  "kernelspec": {
   "display_name": "Python 2",
   "language": "python",
   "name": "python2"
  },
  "language_info": {
   "codemirror_mode": {
    "name": "ipython",
    "version": 2
   },
   "file_extension": ".py",
   "mimetype": "text/x-python",
   "name": "python",
   "nbconvert_exporter": "python",
   "pygments_lexer": "ipython2",
   "version": "2.7.13"
  }
 },
 "nbformat": 4,
 "nbformat_minor": 2
}
