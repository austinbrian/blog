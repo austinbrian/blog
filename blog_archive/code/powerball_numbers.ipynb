{
 "cells": [
  {
   "cell_type": "markdown",
   "metadata": {},
   "source": [
    "# Powerball Numbers\n",
    "------\n",
    "I found this continually updated dataset of powerball numbers, and thought it might eventually be a good thing for a blog post involving time series etc."
   ]
  },
  {
   "cell_type": "code",
   "execution_count": 1,
   "metadata": {
    "collapsed": true
   },
   "outputs": [],
   "source": [
    "import pandas as pd\n",
    "import numpy as np\n",
    "import matplotlib.pyplot as plt\n",
    "import seaborn as sns"
   ]
  },
  {
   "cell_type": "code",
   "execution_count": 2,
   "metadata": {
    "collapsed": false
   },
   "outputs": [
    {
     "data": {
      "text/html": [
       "<div>\n",
       "<table border=\"1\" class=\"dataframe\">\n",
       "  <thead>\n",
       "    <tr style=\"text-align: right;\">\n",
       "      <th></th>\n",
       "      <th>Date</th>\n",
       "      <th>WB1</th>\n",
       "      <th>WB2</th>\n",
       "      <th>WB3</th>\n",
       "      <th>WB4</th>\n",
       "      <th>WB5</th>\n",
       "      <th>PB</th>\n",
       "      <th>PP</th>\n",
       "    </tr>\n",
       "  </thead>\n",
       "  <tbody>\n",
       "    <tr>\n",
       "      <th>0</th>\n",
       "      <td>2017-04-29</td>\n",
       "      <td>24</td>\n",
       "      <td>22</td>\n",
       "      <td>23</td>\n",
       "      <td>62</td>\n",
       "      <td>45</td>\n",
       "      <td>5</td>\n",
       "      <td>2.0</td>\n",
       "    </tr>\n",
       "    <tr>\n",
       "      <th>1</th>\n",
       "      <td>2017-04-26</td>\n",
       "      <td>18</td>\n",
       "      <td>1</td>\n",
       "      <td>51</td>\n",
       "      <td>15</td>\n",
       "      <td>26</td>\n",
       "      <td>26</td>\n",
       "      <td>4.0</td>\n",
       "    </tr>\n",
       "    <tr>\n",
       "      <th>2</th>\n",
       "      <td>2017-04-22</td>\n",
       "      <td>39</td>\n",
       "      <td>21</td>\n",
       "      <td>48</td>\n",
       "      <td>41</td>\n",
       "      <td>63</td>\n",
       "      <td>6</td>\n",
       "      <td>3.0</td>\n",
       "    </tr>\n",
       "    <tr>\n",
       "      <th>3</th>\n",
       "      <td>2017-04-19</td>\n",
       "      <td>1</td>\n",
       "      <td>19</td>\n",
       "      <td>52</td>\n",
       "      <td>40</td>\n",
       "      <td>37</td>\n",
       "      <td>15</td>\n",
       "      <td>3.0</td>\n",
       "    </tr>\n",
       "    <tr>\n",
       "      <th>4</th>\n",
       "      <td>2017-04-15</td>\n",
       "      <td>61</td>\n",
       "      <td>26</td>\n",
       "      <td>45</td>\n",
       "      <td>5</td>\n",
       "      <td>22</td>\n",
       "      <td>13</td>\n",
       "      <td>3.0</td>\n",
       "    </tr>\n",
       "  </tbody>\n",
       "</table>\n",
       "</div>"
      ],
      "text/plain": [
       "        Date  WB1  WB2  WB3  WB4  WB5  PB   PP\n",
       "0 2017-04-29   24   22   23   62   45   5  2.0\n",
       "1 2017-04-26   18    1   51   15   26  26  4.0\n",
       "2 2017-04-22   39   21   48   41   63   6  3.0\n",
       "3 2017-04-19    1   19   52   40   37  15  3.0\n",
       "4 2017-04-15   61   26   45    5   22  13  3.0"
      ]
     },
     "execution_count": 2,
     "metadata": {},
     "output_type": "execute_result"
    }
   ],
   "source": [
    "winning_numbers = 'http://www.powerball.com/powerball/winnums-text.txt'\n",
    "header  = ['Date','WB1','WB2','WB3','WB4','WB5','PB','PP'] \n",
    "pball = pd.read_table(winning_numbers,delimiter='\\s+',skiprows=1,header = None,index_col=False)\n",
    "pball.columns = header\n",
    "pball.Date = pd.to_datetime(pball.Date,format='%m/%d/%Y')\n",
    "pball.head()"
   ]
  },
  {
   "cell_type": "code",
   "execution_count": 7,
   "metadata": {
    "collapsed": false
   },
   "outputs": [
    {
     "data": {
      "text/html": [
       "<div>\n",
       "<table border=\"1\" class=\"dataframe\">\n",
       "  <thead>\n",
       "    <tr style=\"text-align: right;\">\n",
       "      <th></th>\n",
       "      <th>WB1</th>\n",
       "      <th>WB2</th>\n",
       "      <th>WB3</th>\n",
       "      <th>WB4</th>\n",
       "      <th>WB5</th>\n",
       "      <th>PB</th>\n",
       "      <th>PP</th>\n",
       "    </tr>\n",
       "  </thead>\n",
       "  <tbody>\n",
       "    <tr>\n",
       "      <th>count</th>\n",
       "      <td>2035.000000</td>\n",
       "      <td>2035.000000</td>\n",
       "      <td>2035.000000</td>\n",
       "      <td>2035.000000</td>\n",
       "      <td>2035.000000</td>\n",
       "      <td>2035.000000</td>\n",
       "      <td>1476.000000</td>\n",
       "    </tr>\n",
       "    <tr>\n",
       "      <th>mean</th>\n",
       "      <td>28.588698</td>\n",
       "      <td>27.678624</td>\n",
       "      <td>28.694349</td>\n",
       "      <td>28.644717</td>\n",
       "      <td>28.635872</td>\n",
       "      <td>19.640786</td>\n",
       "      <td>3.369241</td>\n",
       "    </tr>\n",
       "    <tr>\n",
       "      <th>std</th>\n",
       "      <td>16.245213</td>\n",
       "      <td>16.900365</td>\n",
       "      <td>16.343743</td>\n",
       "      <td>16.169185</td>\n",
       "      <td>16.334525</td>\n",
       "      <td>11.346912</td>\n",
       "      <td>1.270196</td>\n",
       "    </tr>\n",
       "    <tr>\n",
       "      <th>min</th>\n",
       "      <td>1.000000</td>\n",
       "      <td>1.000000</td>\n",
       "      <td>1.000000</td>\n",
       "      <td>1.000000</td>\n",
       "      <td>1.000000</td>\n",
       "      <td>1.000000</td>\n",
       "      <td>1.000000</td>\n",
       "    </tr>\n",
       "    <tr>\n",
       "      <th>25%</th>\n",
       "      <td>15.000000</td>\n",
       "      <td>13.000000</td>\n",
       "      <td>14.000000</td>\n",
       "      <td>15.000000</td>\n",
       "      <td>15.000000</td>\n",
       "      <td>10.000000</td>\n",
       "      <td>2.000000</td>\n",
       "    </tr>\n",
       "    <tr>\n",
       "      <th>50%</th>\n",
       "      <td>29.000000</td>\n",
       "      <td>26.000000</td>\n",
       "      <td>29.000000</td>\n",
       "      <td>28.000000</td>\n",
       "      <td>29.000000</td>\n",
       "      <td>19.000000</td>\n",
       "      <td>3.000000</td>\n",
       "    </tr>\n",
       "    <tr>\n",
       "      <th>75%</th>\n",
       "      <td>42.000000</td>\n",
       "      <td>42.000000</td>\n",
       "      <td>42.000000</td>\n",
       "      <td>41.000000</td>\n",
       "      <td>42.000000</td>\n",
       "      <td>29.000000</td>\n",
       "      <td>4.000000</td>\n",
       "    </tr>\n",
       "    <tr>\n",
       "      <th>max</th>\n",
       "      <td>69.000000</td>\n",
       "      <td>69.000000</td>\n",
       "      <td>69.000000</td>\n",
       "      <td>69.000000</td>\n",
       "      <td>69.000000</td>\n",
       "      <td>42.000000</td>\n",
       "      <td>10.000000</td>\n",
       "    </tr>\n",
       "  </tbody>\n",
       "</table>\n",
       "</div>"
      ],
      "text/plain": [
       "               WB1          WB2          WB3          WB4          WB5  \\\n",
       "count  2035.000000  2035.000000  2035.000000  2035.000000  2035.000000   \n",
       "mean     28.588698    27.678624    28.694349    28.644717    28.635872   \n",
       "std      16.245213    16.900365    16.343743    16.169185    16.334525   \n",
       "min       1.000000     1.000000     1.000000     1.000000     1.000000   \n",
       "25%      15.000000    13.000000    14.000000    15.000000    15.000000   \n",
       "50%      29.000000    26.000000    29.000000    28.000000    29.000000   \n",
       "75%      42.000000    42.000000    42.000000    41.000000    42.000000   \n",
       "max      69.000000    69.000000    69.000000    69.000000    69.000000   \n",
       "\n",
       "                PB           PP  \n",
       "count  2035.000000  1476.000000  \n",
       "mean     19.640786     3.369241  \n",
       "std      11.346912     1.270196  \n",
       "min       1.000000     1.000000  \n",
       "25%      10.000000     2.000000  \n",
       "50%      19.000000     3.000000  \n",
       "75%      29.000000     4.000000  \n",
       "max      42.000000    10.000000  "
      ]
     },
     "execution_count": 7,
     "metadata": {},
     "output_type": "execute_result"
    }
   ],
   "source": [
    "pball.describe()"
   ]
  },
  {
   "cell_type": "code",
   "execution_count": 20,
   "metadata": {
    "collapsed": false
   },
   "outputs": [
    {
     "data": {
      "text/plain": [
       "<seaborn.axisgrid.FacetGrid at 0x118d78410>"
      ]
     },
     "execution_count": 20,
     "metadata": {},
     "output_type": "execute_result"
    }
   ],
   "source": [
    "sns.factorplot('WB1','WB2','WB3',data=pball)"
   ]
  },
  {
   "cell_type": "code",
   "execution_count": null,
   "metadata": {
    "collapsed": true
   },
   "outputs": [],
   "source": [
    "[pball.WB1,pball.WB2,pball.WB3,pball.WB4,pball.WB5]"
   ]
  },
  {
   "cell_type": "code",
   "execution_count": null,
   "metadata": {
    "collapsed": true
   },
   "outputs": [],
   "source": []
  }
 ],
 "metadata": {
  "kernelspec": {
   "display_name": "Python 2",
   "language": "python",
   "name": "python2"
  },
  "language_info": {
   "codemirror_mode": {
    "name": "ipython",
    "version": 2
   },
   "file_extension": ".py",
   "mimetype": "text/x-python",
   "name": "python",
   "nbconvert_exporter": "python",
   "pygments_lexer": "ipython2",
   "version": "2.7.13"
  }
 },
 "nbformat": 4,
 "nbformat_minor": 2
}
