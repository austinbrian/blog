{
 "cells": [
  {
   "cell_type": "code",
   "execution_count": 14,
   "metadata": {
    "collapsed": true
   },
   "outputs": [],
   "source": [
    "indiv_all_around = '1 778 BILES Simone USA D 61.598 Q E 6.300 16.000 9.700 (1) 6.100 14.666 8.566 (8) 6.300 14.966 8.666 (1) 6.900 15.966 9.066 (1) 2 757 STEINGRUBER Giulia SUI D 57.640 Q E 6.200 15.500 9.300 (4) 5.700 14.141 8.441 (17) 5.800 13.466 7.666 (49) 6.000 14.533 8.533 (6) 3 779 DOUGLAS Gabrielle USA D 57.516 Q E 5.800 15.300 9.500 (6) 6.200 14.750 8.550 (7) 5.900 13.066 7.266 -0.1 (71) 5.900 14.400 8.500 (9) 4 546 BLACK Elsabeth CAN D 57.299 Q E 5.800 14.800 9.000 (28) 5.700 13.733 8.033 (29) 6.400 14.600 8.200 (3) 5.800 14.166 8.366 (16) 5 783 RAISMAN Alexandra USA D 56.798 E 6.300 15.133 8.833 (7) 5.600 13.066 7.466 (68) 5.800 14.066 8.266 (17) 6.600 14.533 8.233 -0.3 (7) 6 698 WEVERS Lieke NED D 56.733 Q E 5.000 13.900 8.900 (103) 6.000 14.400 8.400 (12) 5.700 14.233 8.533 (10) 5.600 14.200 8.600 (12) 7 744 TUTKHALIAN Seda RUS D 56.599 Q E 5.800 14.900 9.100 (17) 5.800 14.066 8.266 (20) 6.300 14.533 8.233 (5) 5.600 13.100 7.900 -0.4 (83) 8 606 TINKLER Amy GBR D 56.466 Q E 5.800 14.933 9.133 (16) 5.600 13.700 8.100 (30) 5.600 13.633 8.033 (40) 6.000 14.200 8.200 (13) 9 604 HARROLD Ruby GBR D 56.398 Q E 5.800 14.666 8.866 (36) 6.300 14.666 8.366 (9) 5.300 13.600 8.300 (41) 5.300 13.466 8.166 (53) 10 652 MURAKAMI Mai JPN D 56.366 Q E 5.800 14.900 9.100 (17) 5.600 13.700 8.100 (30) 5.700 13.666 7.966 (39) 5.700 14.100 8.400 (18) 11 542 OLIVEIRA Lorrane BRA D 56.365 Q E 5.800 14.766 8.966 (30) 5.800 13.600 7.800 (41) 5.500 13.933 8.433 (21) 6.000 14.066 8.066 (20) 12 559 SHANG Chunsong CHN D 56.332 Q E 5.000 14.100 9.100 (68) 6.500 14.666 8.166 (10) 6.200 13.166 6.966 (68) 6.400 14.400 8.000 (11) 13 611 SCHAEFER Pauline GER D 55.799 Q E 5.400 14.533 9.133 (42) 5.100 13.233 8.133 (56) 5.800 14.300 8.500 (8) 5.400 13.733 8.333 (38) 14 541 LOPES SARAIVA Flavia BRA D 55.798 Q E 5.000 14.233 9.233 (55) 5.500 13.266 7.766 (55) 5.800 14.133 8.333 (14) 5.600 14.166 8.566 (15) 15 631 MAKRA Noemi HUN D 55.732 Q E 5.000 13.966 8.966 (86) 6.100 14.233 8.133 (14) 5.300 13.833 8.533 (24) 5.600 13.700 8.100 (41) 16 729 IORDACHE Larisa Andreea ROU D 55.698 Q E 5.800 14.866 9.066 (21) 6.300 13.200 6.900 (61) 6.200 13.866 7.666 (23) 5.900 13.766 7.866 (37) 17 642 FERLITO Carlotta ITA D 55.665 Q E 5.300 14.266 8.966 (54) 5.400 13.233 7.833 (57) 5.700 14.233 8.533 (10) 5.600 13.933 8.333 (26) 18 643 FERRARI Vanessa ITA D 55.665 Q E 5.300 14.366 9.066 (49) 5.700 13.633 7.933 (38) 5.500 13.733 8.233 (33) 5.700 13.933 8.233 (27) 19 561 WANG Yan CHN D 55.566 Q E 6.000 15.066 9.066 (10) 5.400 11.800 6.400 (134) 6.300 14.500 8.200 (6) 6.200 14.200 8.000 (14) 20 601 DOWNIE Elissa GBR D 55.565 E 5.800 15.066 9.266 (10) 6.300 12.133 5.833 (116) 5.600 13.966 8.366 (20) 6.000 14.400 8.400 (10) 21 655 TERAMOTO Asuka JPN D 55.532 Q E 6.200 13.633 7.733 -0.3 (157) 5.900 14.033 8.133 (23) 5.800 14.100 8.300 (16) 5.500 13.766 8.266 (35) 22 529 VERSCHUEREN Lisa BEL D 55.449 Q E 5.000 13.916 8.916 (101) 5.500 13.900 8.400 (26) 5.300 13.700 8.400 (36) 5.400 13.933 8.633 -0.1 (25) 23 731 JURCA Laura ROU D 55.332 Q E 5.800 14.766 8.966 (30) 5.600 12.933 7.333 (76) 5.500 13.833 8.333 (25) 5.700 13.800 8.100 (32) 24 526 HERMANS Rune BEL D 55.332 Q E 5.000 14.000 9.000 (80) 5.500 13.566 8.066 (42) 5.500 13.800 8.300 (29) 5.500 13.966 8.466'"
   ]
  },
  {
   "cell_type": "code",
   "execution_count": 15,
   "metadata": {
    "collapsed": true
   },
   "outputs": [],
   "source": [
    "test = 'a (b) c d e f g (h)'"
   ]
  },
  {
   "cell_type": "code",
   "execution_count": 16,
   "metadata": {
    "collapsed": true
   },
   "outputs": [],
   "source": [
    "indiv_all_around = indiv_all_around.split(' ')"
   ]
  },
  {
   "cell_type": "code",
   "execution_count": null,
   "metadata": {
    "collapsed": false
   },
   "outputs": [],
   "source": []
  },
  {
   "cell_type": "code",
   "execution_count": 31,
   "metadata": {
    "collapsed": true
   },
   "outputs": [],
   "source": [
    "vault = 'Rank Bib Name NOC Code Total Vault Score D Score Vault Pen. E Score 1 778 BILES Simone USA 1 6.300 9.700 16.000 15.633 Q 2 5.600 9.666 15.266 2 741 PASEKA Maria RUS 1 6.400 9.100 15.500 15.583 Q 2 6.300 9.366 15.666 3 719 HONG Un Jong PRK 1 6.300 9.266 15.566 15.533 Q 2 6.400 9.100 15.500 4 757 STEINGRUBER Giulia SUI 1 6.200 9.300 15.500 15.316 Q 2 5.800 9.333 15.133 5 561 WANG Yan CHN 1 6.000 9.066 15.066 15.099 Q 2 6.200 8.933 15.133 6 601 DOWNIE Elissa GBR 1 5.800 9.266 15.066 14.949 Q 2 5.600 9.233 14.833 7 633 KARMAKAR Dipa IND 1 7.000 8.100 15.100 14.900 Q 2 6.000 8.700 14.700 8 680 MORENO MEDINA Alexa Citlali MEX 1 6.200 8.833 15.033 14.899 Q 2 6.000 8.766 14.766 9 744 TUTKHALIAN Seda RUS 1 5.800 9.100 14.900 14.816 R1 2 5.600 9.133 14.733 10 549 ROGERS Brittany CAN 1 5.800 9.200 15.000 14.766 R2 2 5.600 8.933 14.533 11 726 MEJIAS RODRIGUEZ Paula Andrea PUR 1 6.000 8.900 14.900 14.700 R3 2 5.700 8.800 14.500 12 546 BLACK Elsabeth CAN 1 5.800 9.000 14.800 14.700 2 5.500 9.100 14.600 13 786 CHUSOVITINA Oksana UZB 1 7.000 7.766 14.766 14.683 2 5.500 9.100 14.600 14 627 DEVAI Boglarka HUN 1 5.800 9.058 14.858 14.445 2 5.200 8.833 14.033 15 748 BELAK Teja SLO 1 5.300 9.066 14.366 14.366 2 5.300 9.066 14.366 16 555 SANTI Franchesca CHI 1 5.800 8.900 -0.1 14.600 14.350 2 5.200 8.900 14.100 17 702 McGREGOR Courtney NZL 1 5.800 8.966 14.766 14.249 2 5.200 8.633 -0.1 13.733 18 679 LAGO SERNA Ana Estefania MEX 1 5.800 8.933 -0.1 14.633 14.166 2 4.800 8.900 13.700 19 750 KYSSELEF Tjasa SLO 1 5.300 9.100 14.400 14.129 2 5.000 8.858 13.858 20 578 PENA ABREU Yamilet DOM 1 7.000 7.633 14.633 14.066 2 5.800 7.800 -0.1 13.500'\n",
    "# vault = re.sub( r\"([A-Z][A-Z][A-Z])\", r\" \\1\", vault).split()"
   ]
  },
  {
   "cell_type": "code",
   "execution_count": 32,
   "metadata": {
    "collapsed": true
   },
   "outputs": [],
   "source": [
    "def split_on_uppercase(s, keep_contiguous=False):\n",
    "    \"\"\"\n",
    "\n",
    "    Args:\n",
    "        s: string\n",
    "        keep_contiguous bool: flag to indicate we want to keep contiguous uppercase chars together\n",
    "\n",
    "    Returns:\n",
    "\n",
    "    \"\"\"\n",
    "\n",
    "    string_length = len(s)\n",
    "    this_is_part_of_contiguous_upper = lambda: s[i-1].islower() or string_length > (i + 1) and s[i + 1].islower()\n",
    "\n",
    "    start = 0\n",
    "    parts = []\n",
    "    for i in range(1, string_length):\n",
    "        if s[i].isupper() and (not keep_contiguous or this_is_part_of_contiguous_upper()):\n",
    "            parts.append(s[start: i])\n",
    "            start = i\n",
    "    parts.append(s[start:])\n",
    "\n",
    "    return parts"
   ]
  },
  {
   "cell_type": "code",
   "execution_count": 35,
   "metadata": {
    "collapsed": false
   },
   "outputs": [
    {
     "data": {
      "text/plain": [
       "['Rank ',\n",
       " 'Bib ',\n",
       " 'Name NOC ',\n",
       " 'Code ',\n",
       " 'Total ',\n",
       " 'Vault ',\n",
       " 'Score D ',\n",
       " 'Score ',\n",
       " 'Vault ',\n",
       " 'Pen. E ',\n",
       " 'Score 1 778 BILES ',\n",
       " 'Simone USA 1 6.300 9.700 16.000 15.633 Q 2 5.600 9.666 15.266 2 741 PASEKA ',\n",
       " 'Maria RUS 1 6.400 9.100 15.500 15.583 Q 2 6.300 9.366 15.666 3 719 HONG ',\n",
       " 'Un ',\n",
       " 'Jong PRK 1 6.300 9.266 15.566 15.533 Q 2 6.400 9.100 15.500 4 757 STEINGRUBER ',\n",
       " 'Giulia SUI 1 6.200 9.300 15.500 15.316 Q 2 5.800 9.333 15.133 5 561 WANG ',\n",
       " 'Yan CHN 1 6.000 9.066 15.066 15.099 Q 2 6.200 8.933 15.133 6 601 DOWNIE ',\n",
       " 'Elissa GBR 1 5.800 9.266 15.066 14.949 Q 2 5.600 9.233 14.833 7 633 KARMAKAR ',\n",
       " 'Dipa IND 1 7.000 8.100 15.100 14.900 Q 2 6.000 8.700 14.700 8 680 MORENO MEDINA ',\n",
       " 'Alexa ',\n",
       " 'Citlali MEX 1 6.200 8.833 15.033 14.899 Q 2 6.000 8.766 14.766 9 744 TUTKHALIAN ',\n",
       " 'Seda RUS 1 5.800 9.100 14.900 14.816 R1 2 5.600 9.133 14.733 10 549 ROGERS ',\n",
       " 'Brittany CAN 1 5.800 9.200 15.000 14.766 R2 2 5.600 8.933 14.533 11 726 MEJIAS RODRIGUEZ ',\n",
       " 'Paula ',\n",
       " 'Andrea PUR 1 6.000 8.900 14.900 14.700 R3 2 5.700 8.800 14.500 12 546 BLACK ',\n",
       " 'Elsabeth CAN 1 5.800 9.000 14.800 14.700 2 5.500 9.100 14.600 13 786 CHUSOVITINA ',\n",
       " 'Oksana UZB 1 7.000 7.766 14.766 14.683 2 5.500 9.100 14.600 14 627 DEVAI ',\n",
       " 'Boglarka HUN 1 5.800 9.058 14.858 14.445 2 5.200 8.833 14.033 15 748 BELAK ',\n",
       " 'Teja SLO 1 5.300 9.066 14.366 14.366 2 5.300 9.066 14.366 16 555 SANTI ',\n",
       " 'Franchesca CHI 1 5.800 8.900 -0.1 14.600 14.350 2 5.200 8.900 14.100 17 702 ',\n",
       " 'Mc',\n",
       " 'GREGOR ',\n",
       " 'Courtney NZL 1 5.800 8.966 14.766 14.249 2 5.200 8.633 -0.1 13.733 18 679 LAGO SERNA ',\n",
       " 'Ana ',\n",
       " 'Estefania MEX 1 5.800 8.933 -0.1 14.633 14.166 2 4.800 8.900 13.700 19 750 KYSSELEF ',\n",
       " 'Tjasa SLO 1 5.300 9.100 14.400 14.129 2 5.000 8.858 13.858 20 578 PENA ABREU ',\n",
       " 'Yamilet DOM 1 7.000 7.633 14.633 14.066 2 5.800 7.800 -0.1 13.500']"
      ]
     },
     "execution_count": 35,
     "metadata": {},
     "output_type": "execute_result"
    }
   ],
   "source": [
    "split_on_uppercase(vault,True)"
   ]
  },
  {
   "cell_type": "code",
   "execution_count": 21,
   "metadata": {
    "collapsed": true
   },
   "outputs": [],
   "source": [
    "import re"
   ]
  },
  {
   "cell_type": "code",
   "execution_count": 26,
   "metadata": {
    "collapsed": false
   },
   "outputs": [
    {
     "ename": "TypeError",
     "evalue": "expected string or buffer",
     "output_type": "error",
     "traceback": [
      "\u001b[0;31m---------------------------------------------------------------------------\u001b[0m",
      "\u001b[0;31mTypeError\u001b[0m                                 Traceback (most recent call last)",
      "\u001b[0;32m<ipython-input-26-f8b0cfcf88fc>\u001b[0m in \u001b[0;36m<module>\u001b[0;34m()\u001b[0m\n\u001b[0;32m----> 1\u001b[0;31m \u001b[0mvault\u001b[0m \u001b[0;34m=\u001b[0m \u001b[0mre\u001b[0m\u001b[0;34m.\u001b[0m\u001b[0msub\u001b[0m\u001b[0;34m(\u001b[0m \u001b[0;34mr\"([A-Z][A-Z][A-Z])\"\u001b[0m\u001b[0;34m,\u001b[0m \u001b[0;34mr\" \\1\"\u001b[0m\u001b[0;34m,\u001b[0m \u001b[0mvault\u001b[0m\u001b[0;34m)\u001b[0m\u001b[0;34m.\u001b[0m\u001b[0msplit\u001b[0m\u001b[0;34m(\u001b[0m\u001b[0;34m)\u001b[0m\u001b[0;34m\u001b[0m\u001b[0m\n\u001b[0m",
      "\u001b[0;32m/Users/austinbrian/anaconda/lib/python2.7/re.pyc\u001b[0m in \u001b[0;36msub\u001b[0;34m(pattern, repl, string, count, flags)\u001b[0m\n\u001b[1;32m    153\u001b[0m     \u001b[0ma\u001b[0m \u001b[0mcallable\u001b[0m\u001b[0;34m,\u001b[0m \u001b[0mit\u001b[0m\u001b[0;31m'\u001b[0m\u001b[0ms\u001b[0m \u001b[0mpassed\u001b[0m \u001b[0mthe\u001b[0m \u001b[0mmatch\u001b[0m \u001b[0mobject\u001b[0m \u001b[0;32mand\u001b[0m \u001b[0mmust\u001b[0m \u001b[0;32mreturn\u001b[0m\u001b[0;34m\u001b[0m\u001b[0m\n\u001b[1;32m    154\u001b[0m     a replacement string to be used.\"\"\"\n\u001b[0;32m--> 155\u001b[0;31m     \u001b[0;32mreturn\u001b[0m \u001b[0m_compile\u001b[0m\u001b[0;34m(\u001b[0m\u001b[0mpattern\u001b[0m\u001b[0;34m,\u001b[0m \u001b[0mflags\u001b[0m\u001b[0;34m)\u001b[0m\u001b[0;34m.\u001b[0m\u001b[0msub\u001b[0m\u001b[0;34m(\u001b[0m\u001b[0mrepl\u001b[0m\u001b[0;34m,\u001b[0m \u001b[0mstring\u001b[0m\u001b[0;34m,\u001b[0m \u001b[0mcount\u001b[0m\u001b[0;34m)\u001b[0m\u001b[0;34m\u001b[0m\u001b[0m\n\u001b[0m\u001b[1;32m    156\u001b[0m \u001b[0;34m\u001b[0m\u001b[0m\n\u001b[1;32m    157\u001b[0m \u001b[0;32mdef\u001b[0m \u001b[0msubn\u001b[0m\u001b[0;34m(\u001b[0m\u001b[0mpattern\u001b[0m\u001b[0;34m,\u001b[0m \u001b[0mrepl\u001b[0m\u001b[0;34m,\u001b[0m \u001b[0mstring\u001b[0m\u001b[0;34m,\u001b[0m \u001b[0mcount\u001b[0m\u001b[0;34m=\u001b[0m\u001b[0;36m0\u001b[0m\u001b[0;34m,\u001b[0m \u001b[0mflags\u001b[0m\u001b[0;34m=\u001b[0m\u001b[0;36m0\u001b[0m\u001b[0;34m)\u001b[0m\u001b[0;34m:\u001b[0m\u001b[0;34m\u001b[0m\u001b[0m\n",
      "\u001b[0;31mTypeError\u001b[0m: expected string or buffer"
     ]
    }
   ],
   "source": [
    "vault = re.sub( r\"([A-Z][A-Z][A-Z])\", r\" \\1\", vault).split()"
   ]
  },
  {
   "cell_type": "code",
   "execution_count": null,
   "metadata": {
    "collapsed": true
   },
   "outputs": [],
   "source": []
  }
 ],
 "metadata": {
  "kernelspec": {
   "display_name": "Python 2",
   "language": "python",
   "name": "python2"
  },
  "language_info": {
   "codemirror_mode": {
    "name": "ipython",
    "version": 2
   },
   "file_extension": ".py",
   "mimetype": "text/x-python",
   "name": "python",
   "nbconvert_exporter": "python",
   "pygments_lexer": "ipython2",
   "version": "2.7.13"
  }
 },
 "nbformat": 4,
 "nbformat_minor": 2
}
