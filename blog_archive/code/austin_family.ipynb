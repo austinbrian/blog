{
 "cells": [
  {
   "cell_type": "code",
   "execution_count": 6,
   "metadata": {
    "collapsed": true
   },
   "outputs": [],
   "source": [
    "with open('../datasets/Austin_family_tree.txt','rU') as f:\n",
    "    data = [row.split('\\n') for row in f]"
   ]
  },
  {
   "cell_type": "code",
   "execution_count": 7,
   "metadata": {
    "collapsed": false
   },
   "outputs": [
    {
     "name": "stdout",
     "output_type": "stream",
     "text": [
      "[['1 Austin, Richard (1598 - 1638)', ''], ['sp _____, Elizabeth Betsy (1610 - )', ''], ['---- 2 Austin, Richard (1632 - 15 Aug 1703)', ''], ['---- sp Bachelder, Abigail (chr. 1 Jul 1637 - 1 Feb 1693)', ''], ['-------- 3 Austin, Samuel (29 Jul 1660 - 23 Jun 1716)', ''], ['-------- sp _____, Sarah ( - )', ''], ['------------ 4 Austin, Abigail (10 Apr 1689 - 11 Aug 1701)', ''], ['------------ 4 Austin, Sarah (4 Nov 1690 - )', ''], ['------------ sp Fletcher, Francis ( - )', ''], ['------------ 4 Austin, Mary D. (20 Aug 1693 - )', ''], ['------------ sp Sweetser, Benjamin (chr. 30 Oct 1690 - 24 Dec 1721)', ''], ['---------------- 5 Sweetzer, Mary ( - 29 Dec 1721)', ''], ['---------------- 5 Sweetzer, Sarah (chr. 15 Feb 1740-1741 - )', ''], ['---------------- 5 Sweetzer, Margaret (chr. 15 Feb 1740-1741 - )', ''], ['------------ sp Cooper, James ( - )', '']]\n"
     ]
    }
   ],
   "source": [
    "print(data[:15])"
   ]
  },
  {
   "cell_type": "code",
   "execution_count": null,
   "metadata": {
    "collapsed": true
   },
   "outputs": [],
   "source": []
  }
 ],
 "metadata": {
  "kernelspec": {
   "display_name": "Python 2",
   "language": "python",
   "name": "python2"
  },
  "language_info": {
   "codemirror_mode": {
    "name": "ipython",
    "version": 2
   },
   "file_extension": ".py",
   "mimetype": "text/x-python",
   "name": "python",
   "nbconvert_exporter": "python",
   "pygments_lexer": "ipython2",
   "version": "2.7.13"
  }
 },
 "nbformat": 4,
 "nbformat_minor": 2
}
